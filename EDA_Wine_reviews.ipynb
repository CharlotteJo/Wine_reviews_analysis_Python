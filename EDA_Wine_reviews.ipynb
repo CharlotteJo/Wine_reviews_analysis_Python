{
 "cells": [
  {
   "cell_type": "markdown",
   "id": "83c1a98d",
   "metadata": {},
   "source": [
    "<img src='https://fontmeme.com/permalink/230311/7478b84bc87336192c57b84df07e9ea1.png'>"
   ]
  },
  {
   "cell_type": "markdown",
   "id": "fe9d6961",
   "metadata": {},
   "source": [
    "<img src='https://fontmeme.com/permalink/230311/9c54147e3ecf5e8ee8fd99bf1794ba37.png'>"
   ]
  },
  {
   "cell_type": "markdown",
   "id": "d6afb1d2",
   "metadata": {},
   "source": [
    "<img src=\"https://www.tourtuscany.com/files/2021/02/DSC6433.jpg\" width = 500 align=\"center\">"
   ]
  },
  {
   "cell_type": "markdown",
   "id": "b9a66bcd",
   "metadata": {},
   "source": [
    "**Importing libraries and loading data**"
   ]
  },
  {
   "cell_type": "code",
   "execution_count": 1,
   "id": "070c940b",
   "metadata": {},
   "outputs": [],
   "source": [
    "import numpy as np\n",
    "import pandas as pd\n",
    "import matplotlib.pyplot as plt\n",
    "import seaborn as sns"
   ]
  },
  {
   "cell_type": "code",
   "execution_count": 2,
   "id": "7119c3d9",
   "metadata": {},
   "outputs": [],
   "source": [
    "file = 'winemag-data-130k-v2.csv'"
   ]
  },
  {
   "cell_type": "code",
   "execution_count": 3,
   "id": "8c72ae24",
   "metadata": {},
   "outputs": [],
   "source": [
    "df = pd.read_csv(file)"
   ]
  },
  {
   "cell_type": "markdown",
   "id": "e46a6b06",
   "metadata": {},
   "source": [
    "I will create a copy of the dataset that I will call \"wine\" and that I will use for my analysis, in order to keep the original dataset unmodified and correct."
   ]
  },
  {
   "cell_type": "code",
   "execution_count": 4,
   "id": "15fe7de0",
   "metadata": {},
   "outputs": [],
   "source": [
    "wine = df.copy()"
   ]
  },
  {
   "cell_type": "markdown",
   "id": "9478e8df",
   "metadata": {},
   "source": [
    "**Data exploration**"
   ]
  },
  {
   "cell_type": "code",
   "execution_count": 5,
   "id": "98564283",
   "metadata": {
    "scrolled": false
   },
   "outputs": [
    {
     "data": {
      "text/html": [
       "<div>\n",
       "<style scoped>\n",
       "    .dataframe tbody tr th:only-of-type {\n",
       "        vertical-align: middle;\n",
       "    }\n",
       "\n",
       "    .dataframe tbody tr th {\n",
       "        vertical-align: top;\n",
       "    }\n",
       "\n",
       "    .dataframe thead th {\n",
       "        text-align: right;\n",
       "    }\n",
       "</style>\n",
       "<table border=\"1\" class=\"dataframe\">\n",
       "  <thead>\n",
       "    <tr style=\"text-align: right;\">\n",
       "      <th></th>\n",
       "      <th>Unnamed: 0</th>\n",
       "      <th>country</th>\n",
       "      <th>description</th>\n",
       "      <th>designation</th>\n",
       "      <th>points</th>\n",
       "      <th>price</th>\n",
       "      <th>province</th>\n",
       "      <th>region_1</th>\n",
       "      <th>region_2</th>\n",
       "      <th>taster_name</th>\n",
       "      <th>taster_twitter_handle</th>\n",
       "      <th>title</th>\n",
       "      <th>variety</th>\n",
       "      <th>winery</th>\n",
       "    </tr>\n",
       "  </thead>\n",
       "  <tbody>\n",
       "    <tr>\n",
       "      <th>0</th>\n",
       "      <td>0</td>\n",
       "      <td>Italy</td>\n",
       "      <td>Aromas include tropical fruit, broom, brimston...</td>\n",
       "      <td>Vulkà Bianco</td>\n",
       "      <td>87</td>\n",
       "      <td>NaN</td>\n",
       "      <td>Sicily &amp; Sardinia</td>\n",
       "      <td>Etna</td>\n",
       "      <td>NaN</td>\n",
       "      <td>Kerin O’Keefe</td>\n",
       "      <td>@kerinokeefe</td>\n",
       "      <td>Nicosia 2013 Vulkà Bianco  (Etna)</td>\n",
       "      <td>White Blend</td>\n",
       "      <td>Nicosia</td>\n",
       "    </tr>\n",
       "    <tr>\n",
       "      <th>1</th>\n",
       "      <td>1</td>\n",
       "      <td>Portugal</td>\n",
       "      <td>This is ripe and fruity, a wine that is smooth...</td>\n",
       "      <td>Avidagos</td>\n",
       "      <td>87</td>\n",
       "      <td>15.0</td>\n",
       "      <td>Douro</td>\n",
       "      <td>NaN</td>\n",
       "      <td>NaN</td>\n",
       "      <td>Roger Voss</td>\n",
       "      <td>@vossroger</td>\n",
       "      <td>Quinta dos Avidagos 2011 Avidagos Red (Douro)</td>\n",
       "      <td>Portuguese Red</td>\n",
       "      <td>Quinta dos Avidagos</td>\n",
       "    </tr>\n",
       "    <tr>\n",
       "      <th>2</th>\n",
       "      <td>2</td>\n",
       "      <td>US</td>\n",
       "      <td>Tart and snappy, the flavors of lime flesh and...</td>\n",
       "      <td>NaN</td>\n",
       "      <td>87</td>\n",
       "      <td>14.0</td>\n",
       "      <td>Oregon</td>\n",
       "      <td>Willamette Valley</td>\n",
       "      <td>Willamette Valley</td>\n",
       "      <td>Paul Gregutt</td>\n",
       "      <td>@paulgwine</td>\n",
       "      <td>Rainstorm 2013 Pinot Gris (Willamette Valley)</td>\n",
       "      <td>Pinot Gris</td>\n",
       "      <td>Rainstorm</td>\n",
       "    </tr>\n",
       "    <tr>\n",
       "      <th>3</th>\n",
       "      <td>3</td>\n",
       "      <td>US</td>\n",
       "      <td>Pineapple rind, lemon pith and orange blossom ...</td>\n",
       "      <td>Reserve Late Harvest</td>\n",
       "      <td>87</td>\n",
       "      <td>13.0</td>\n",
       "      <td>Michigan</td>\n",
       "      <td>Lake Michigan Shore</td>\n",
       "      <td>NaN</td>\n",
       "      <td>Alexander Peartree</td>\n",
       "      <td>NaN</td>\n",
       "      <td>St. Julian 2013 Reserve Late Harvest Riesling ...</td>\n",
       "      <td>Riesling</td>\n",
       "      <td>St. Julian</td>\n",
       "    </tr>\n",
       "    <tr>\n",
       "      <th>4</th>\n",
       "      <td>4</td>\n",
       "      <td>US</td>\n",
       "      <td>Much like the regular bottling from 2012, this...</td>\n",
       "      <td>Vintner's Reserve Wild Child Block</td>\n",
       "      <td>87</td>\n",
       "      <td>65.0</td>\n",
       "      <td>Oregon</td>\n",
       "      <td>Willamette Valley</td>\n",
       "      <td>Willamette Valley</td>\n",
       "      <td>Paul Gregutt</td>\n",
       "      <td>@paulgwine</td>\n",
       "      <td>Sweet Cheeks 2012 Vintner's Reserve Wild Child...</td>\n",
       "      <td>Pinot Noir</td>\n",
       "      <td>Sweet Cheeks</td>\n",
       "    </tr>\n",
       "  </tbody>\n",
       "</table>\n",
       "</div>"
      ],
      "text/plain": [
       "   Unnamed: 0   country                                        description  \\\n",
       "0           0     Italy  Aromas include tropical fruit, broom, brimston...   \n",
       "1           1  Portugal  This is ripe and fruity, a wine that is smooth...   \n",
       "2           2        US  Tart and snappy, the flavors of lime flesh and...   \n",
       "3           3        US  Pineapple rind, lemon pith and orange blossom ...   \n",
       "4           4        US  Much like the regular bottling from 2012, this...   \n",
       "\n",
       "                          designation  points  price           province  \\\n",
       "0                        Vulkà Bianco      87    NaN  Sicily & Sardinia   \n",
       "1                            Avidagos      87   15.0              Douro   \n",
       "2                                 NaN      87   14.0             Oregon   \n",
       "3                Reserve Late Harvest      87   13.0           Michigan   \n",
       "4  Vintner's Reserve Wild Child Block      87   65.0             Oregon   \n",
       "\n",
       "              region_1           region_2         taster_name  \\\n",
       "0                 Etna                NaN       Kerin O’Keefe   \n",
       "1                  NaN                NaN          Roger Voss   \n",
       "2    Willamette Valley  Willamette Valley        Paul Gregutt   \n",
       "3  Lake Michigan Shore                NaN  Alexander Peartree   \n",
       "4    Willamette Valley  Willamette Valley        Paul Gregutt   \n",
       "\n",
       "  taster_twitter_handle                                              title  \\\n",
       "0          @kerinokeefe                  Nicosia 2013 Vulkà Bianco  (Etna)   \n",
       "1            @vossroger      Quinta dos Avidagos 2011 Avidagos Red (Douro)   \n",
       "2           @paulgwine       Rainstorm 2013 Pinot Gris (Willamette Valley)   \n",
       "3                   NaN  St. Julian 2013 Reserve Late Harvest Riesling ...   \n",
       "4           @paulgwine   Sweet Cheeks 2012 Vintner's Reserve Wild Child...   \n",
       "\n",
       "          variety               winery  \n",
       "0     White Blend              Nicosia  \n",
       "1  Portuguese Red  Quinta dos Avidagos  \n",
       "2      Pinot Gris            Rainstorm  \n",
       "3        Riesling           St. Julian  \n",
       "4      Pinot Noir         Sweet Cheeks  "
      ]
     },
     "execution_count": 5,
     "metadata": {},
     "output_type": "execute_result"
    }
   ],
   "source": [
    "wine.head()"
   ]
  },
  {
   "cell_type": "code",
   "execution_count": 6,
   "id": "3bc099e8",
   "metadata": {},
   "outputs": [
    {
     "data": {
      "text/plain": [
       "(129971, 14)"
      ]
     },
     "execution_count": 6,
     "metadata": {},
     "output_type": "execute_result"
    }
   ],
   "source": [
    "wine.shape"
   ]
  },
  {
   "cell_type": "code",
   "execution_count": 7,
   "id": "17cfb15e",
   "metadata": {},
   "outputs": [
    {
     "name": "stdout",
     "output_type": "stream",
     "text": [
      "<class 'pandas.core.frame.DataFrame'>\n",
      "RangeIndex: 129971 entries, 0 to 129970\n",
      "Data columns (total 14 columns):\n",
      " #   Column                 Non-Null Count   Dtype  \n",
      "---  ------                 --------------   -----  \n",
      " 0   Unnamed: 0             129971 non-null  int64  \n",
      " 1   country                129908 non-null  object \n",
      " 2   description            129971 non-null  object \n",
      " 3   designation            92506 non-null   object \n",
      " 4   points                 129971 non-null  int64  \n",
      " 5   price                  120975 non-null  float64\n",
      " 6   province               129908 non-null  object \n",
      " 7   region_1               108724 non-null  object \n",
      " 8   region_2               50511 non-null   object \n",
      " 9   taster_name            103727 non-null  object \n",
      " 10  taster_twitter_handle  98758 non-null   object \n",
      " 11  title                  129971 non-null  object \n",
      " 12  variety                129970 non-null  object \n",
      " 13  winery                 129971 non-null  object \n",
      "dtypes: float64(1), int64(2), object(11)\n",
      "memory usage: 13.9+ MB\n"
     ]
    }
   ],
   "source": [
    "wine.info()"
   ]
  },
  {
   "cell_type": "markdown",
   "id": "002cf2e2",
   "metadata": {},
   "source": [
    "The are only 3 numeric variables: \"Unnamed: 0\", \"points\", \"price\"."
   ]
  },
  {
   "cell_type": "code",
   "execution_count": 8,
   "id": "c8936bb3",
   "metadata": {},
   "outputs": [
    {
     "data": {
      "text/plain": [
       "Unnamed: 0                   0\n",
       "country                     63\n",
       "description                  0\n",
       "designation              37465\n",
       "points                       0\n",
       "price                     8996\n",
       "province                    63\n",
       "region_1                 21247\n",
       "region_2                 79460\n",
       "taster_name              26244\n",
       "taster_twitter_handle    31213\n",
       "title                        0\n",
       "variety                      1\n",
       "winery                       0\n",
       "dtype: int64"
      ]
     },
     "execution_count": 8,
     "metadata": {},
     "output_type": "execute_result"
    }
   ],
   "source": [
    "wine.isnull().sum()"
   ]
  },
  {
   "cell_type": "code",
   "execution_count": 9,
   "id": "7e38ed90",
   "metadata": {},
   "outputs": [
    {
     "data": {
      "text/plain": [
       "count                                                129971\n",
       "unique                                               118840\n",
       "top       Gloria Ferrer NV Sonoma Brut Sparkling (Sonoma...\n",
       "freq                                                     11\n",
       "Name: title, dtype: object"
      ]
     },
     "execution_count": 9,
     "metadata": {},
     "output_type": "execute_result"
    }
   ],
   "source": [
    "wine.title.describe()"
   ]
  },
  {
   "cell_type": "markdown",
   "id": "e7b884a2",
   "metadata": {},
   "source": [
    "**Cleaning data**"
   ]
  },
  {
   "cell_type": "markdown",
   "id": "7f3d4ccb",
   "metadata": {},
   "source": [
    "I delete some columns that I believe are not useful for the purpose of this analysis."
   ]
  },
  {
   "cell_type": "code",
   "execution_count": 10,
   "id": "6189db7b",
   "metadata": {},
   "outputs": [],
   "source": [
    "wine = wine.drop(columns=['description','region_1','region_2','taster_name','taster_twitter_handle'])"
   ]
  },
  {
   "cell_type": "code",
   "execution_count": 11,
   "id": "2eed43e5",
   "metadata": {},
   "outputs": [
    {
     "data": {
      "text/plain": [
       "0"
      ]
     },
     "execution_count": 11,
     "metadata": {},
     "output_type": "execute_result"
    }
   ],
   "source": [
    "wine.duplicated().sum()"
   ]
  },
  {
   "cell_type": "markdown",
   "id": "1d94c26f",
   "metadata": {},
   "source": [
    "The fact that the dataset appears to be without duplicates could be explained by the presence of the first column that associate an unique integer to each record."
   ]
  },
  {
   "cell_type": "code",
   "execution_count": 12,
   "id": "33fac3e5",
   "metadata": {},
   "outputs": [
    {
     "data": {
      "text/plain": [
       "10084"
      ]
     },
     "execution_count": 12,
     "metadata": {},
     "output_type": "execute_result"
    }
   ],
   "source": [
    "wine=wine.drop(columns=['Unnamed: 0'])\n",
    "wine.duplicated().sum()"
   ]
  },
  {
   "cell_type": "markdown",
   "id": "ca31ee31",
   "metadata": {},
   "source": [
    "Actually there are more than 10000 duplicated rows. Let's delete them:"
   ]
  },
  {
   "cell_type": "code",
   "execution_count": 13,
   "id": "6cd13c43",
   "metadata": {},
   "outputs": [],
   "source": [
    "wine = wine.drop_duplicates()"
   ]
  },
  {
   "cell_type": "code",
   "execution_count": 14,
   "id": "85e6af63",
   "metadata": {},
   "outputs": [],
   "source": [
    "wine.reset_index(inplace=True)"
   ]
  },
  {
   "cell_type": "markdown",
   "id": "8fc089fa",
   "metadata": {},
   "source": [
    "Now we have a clean dataset:"
   ]
  },
  {
   "cell_type": "code",
   "execution_count": 15,
   "id": "b0d440c6",
   "metadata": {},
   "outputs": [
    {
     "data": {
      "text/html": [
       "<div>\n",
       "<style scoped>\n",
       "    .dataframe tbody tr th:only-of-type {\n",
       "        vertical-align: middle;\n",
       "    }\n",
       "\n",
       "    .dataframe tbody tr th {\n",
       "        vertical-align: top;\n",
       "    }\n",
       "\n",
       "    .dataframe thead th {\n",
       "        text-align: right;\n",
       "    }\n",
       "</style>\n",
       "<table border=\"1\" class=\"dataframe\">\n",
       "  <thead>\n",
       "    <tr style=\"text-align: right;\">\n",
       "      <th></th>\n",
       "      <th>index</th>\n",
       "      <th>country</th>\n",
       "      <th>designation</th>\n",
       "      <th>points</th>\n",
       "      <th>price</th>\n",
       "      <th>province</th>\n",
       "      <th>title</th>\n",
       "      <th>variety</th>\n",
       "      <th>winery</th>\n",
       "    </tr>\n",
       "  </thead>\n",
       "  <tbody>\n",
       "    <tr>\n",
       "      <th>0</th>\n",
       "      <td>0</td>\n",
       "      <td>Italy</td>\n",
       "      <td>Vulkà Bianco</td>\n",
       "      <td>87</td>\n",
       "      <td>NaN</td>\n",
       "      <td>Sicily &amp; Sardinia</td>\n",
       "      <td>Nicosia 2013 Vulkà Bianco  (Etna)</td>\n",
       "      <td>White Blend</td>\n",
       "      <td>Nicosia</td>\n",
       "    </tr>\n",
       "    <tr>\n",
       "      <th>1</th>\n",
       "      <td>1</td>\n",
       "      <td>Portugal</td>\n",
       "      <td>Avidagos</td>\n",
       "      <td>87</td>\n",
       "      <td>15.0</td>\n",
       "      <td>Douro</td>\n",
       "      <td>Quinta dos Avidagos 2011 Avidagos Red (Douro)</td>\n",
       "      <td>Portuguese Red</td>\n",
       "      <td>Quinta dos Avidagos</td>\n",
       "    </tr>\n",
       "    <tr>\n",
       "      <th>2</th>\n",
       "      <td>2</td>\n",
       "      <td>US</td>\n",
       "      <td>NaN</td>\n",
       "      <td>87</td>\n",
       "      <td>14.0</td>\n",
       "      <td>Oregon</td>\n",
       "      <td>Rainstorm 2013 Pinot Gris (Willamette Valley)</td>\n",
       "      <td>Pinot Gris</td>\n",
       "      <td>Rainstorm</td>\n",
       "    </tr>\n",
       "    <tr>\n",
       "      <th>3</th>\n",
       "      <td>3</td>\n",
       "      <td>US</td>\n",
       "      <td>Reserve Late Harvest</td>\n",
       "      <td>87</td>\n",
       "      <td>13.0</td>\n",
       "      <td>Michigan</td>\n",
       "      <td>St. Julian 2013 Reserve Late Harvest Riesling ...</td>\n",
       "      <td>Riesling</td>\n",
       "      <td>St. Julian</td>\n",
       "    </tr>\n",
       "    <tr>\n",
       "      <th>4</th>\n",
       "      <td>4</td>\n",
       "      <td>US</td>\n",
       "      <td>Vintner's Reserve Wild Child Block</td>\n",
       "      <td>87</td>\n",
       "      <td>65.0</td>\n",
       "      <td>Oregon</td>\n",
       "      <td>Sweet Cheeks 2012 Vintner's Reserve Wild Child...</td>\n",
       "      <td>Pinot Noir</td>\n",
       "      <td>Sweet Cheeks</td>\n",
       "    </tr>\n",
       "  </tbody>\n",
       "</table>\n",
       "</div>"
      ],
      "text/plain": [
       "   index   country                         designation  points  price  \\\n",
       "0      0     Italy                        Vulkà Bianco      87    NaN   \n",
       "1      1  Portugal                            Avidagos      87   15.0   \n",
       "2      2        US                                 NaN      87   14.0   \n",
       "3      3        US                Reserve Late Harvest      87   13.0   \n",
       "4      4        US  Vintner's Reserve Wild Child Block      87   65.0   \n",
       "\n",
       "            province                                              title  \\\n",
       "0  Sicily & Sardinia                  Nicosia 2013 Vulkà Bianco  (Etna)   \n",
       "1              Douro      Quinta dos Avidagos 2011 Avidagos Red (Douro)   \n",
       "2             Oregon      Rainstorm 2013 Pinot Gris (Willamette Valley)   \n",
       "3           Michigan  St. Julian 2013 Reserve Late Harvest Riesling ...   \n",
       "4             Oregon  Sweet Cheeks 2012 Vintner's Reserve Wild Child...   \n",
       "\n",
       "          variety               winery  \n",
       "0     White Blend              Nicosia  \n",
       "1  Portuguese Red  Quinta dos Avidagos  \n",
       "2      Pinot Gris            Rainstorm  \n",
       "3        Riesling           St. Julian  \n",
       "4      Pinot Noir         Sweet Cheeks  "
      ]
     },
     "execution_count": 15,
     "metadata": {},
     "output_type": "execute_result"
    }
   ],
   "source": [
    "wine.head()"
   ]
  },
  {
   "cell_type": "markdown",
   "id": "8ecdec69",
   "metadata": {},
   "source": [
    "Let's take a look about some general characteristics of the differents wines:"
   ]
  },
  {
   "cell_type": "code",
   "execution_count": 16,
   "id": "4627033f",
   "metadata": {
    "scrolled": true
   },
   "outputs": [
    {
     "data": {
      "text/html": [
       "<div>\n",
       "<style scoped>\n",
       "    .dataframe tbody tr th:only-of-type {\n",
       "        vertical-align: middle;\n",
       "    }\n",
       "\n",
       "    .dataframe tbody tr th {\n",
       "        vertical-align: top;\n",
       "    }\n",
       "\n",
       "    .dataframe thead th {\n",
       "        text-align: right;\n",
       "    }\n",
       "</style>\n",
       "<table border=\"1\" class=\"dataframe\">\n",
       "  <thead>\n",
       "    <tr style=\"text-align: right;\">\n",
       "      <th></th>\n",
       "      <th>index</th>\n",
       "      <th>points</th>\n",
       "      <th>price</th>\n",
       "    </tr>\n",
       "  </thead>\n",
       "  <tbody>\n",
       "    <tr>\n",
       "      <th>count</th>\n",
       "      <td>119887.000000</td>\n",
       "      <td>119887.000000</td>\n",
       "      <td>111495.000000</td>\n",
       "    </tr>\n",
       "    <tr>\n",
       "      <th>mean</th>\n",
       "      <td>63194.838106</td>\n",
       "      <td>88.442158</td>\n",
       "      <td>35.622916</td>\n",
       "    </tr>\n",
       "    <tr>\n",
       "      <th>std</th>\n",
       "      <td>37505.636029</td>\n",
       "      <td>3.093431</td>\n",
       "      <td>42.112669</td>\n",
       "    </tr>\n",
       "    <tr>\n",
       "      <th>min</th>\n",
       "      <td>0.000000</td>\n",
       "      <td>80.000000</td>\n",
       "      <td>4.000000</td>\n",
       "    </tr>\n",
       "    <tr>\n",
       "      <th>25%</th>\n",
       "      <td>30478.500000</td>\n",
       "      <td>86.000000</td>\n",
       "      <td>17.000000</td>\n",
       "    </tr>\n",
       "    <tr>\n",
       "      <th>50%</th>\n",
       "      <td>62378.000000</td>\n",
       "      <td>88.000000</td>\n",
       "      <td>25.000000</td>\n",
       "    </tr>\n",
       "    <tr>\n",
       "      <th>75%</th>\n",
       "      <td>95374.500000</td>\n",
       "      <td>91.000000</td>\n",
       "      <td>42.000000</td>\n",
       "    </tr>\n",
       "    <tr>\n",
       "      <th>max</th>\n",
       "      <td>129970.000000</td>\n",
       "      <td>100.000000</td>\n",
       "      <td>3300.000000</td>\n",
       "    </tr>\n",
       "  </tbody>\n",
       "</table>\n",
       "</div>"
      ],
      "text/plain": [
       "               index         points          price\n",
       "count  119887.000000  119887.000000  111495.000000\n",
       "mean    63194.838106      88.442158      35.622916\n",
       "std     37505.636029       3.093431      42.112669\n",
       "min         0.000000      80.000000       4.000000\n",
       "25%     30478.500000      86.000000      17.000000\n",
       "50%     62378.000000      88.000000      25.000000\n",
       "75%     95374.500000      91.000000      42.000000\n",
       "max    129970.000000     100.000000    3300.000000"
      ]
     },
     "execution_count": 16,
     "metadata": {},
     "output_type": "execute_result"
    }
   ],
   "source": [
    "wine.describe()"
   ]
  },
  {
   "cell_type": "markdown",
   "id": "d7a810c8",
   "metadata": {},
   "source": [
    "There are 119887 rewieved wines in total. \n",
    "On average the wines got 88.5 points out of 100, the minimum is 80 and the maximum is 100. So there are some excellences, but in general all the wines has received a good evaluation. \n",
    "The average price of a wine bottle is 35.6, the minimum is 4 and the maximum 3300, so the price vary pretty much."
   ]
  },
  {
   "cell_type": "markdown",
   "id": "150b923d",
   "metadata": {},
   "source": [
    "**ANALYSIS**"
   ]
  },
  {
   "cell_type": "markdown",
   "id": "36da658d",
   "metadata": {},
   "source": [
    "I would like to structure the analysis by dividing it into 6 parts, where the first 5 correspond to some wines' characteristics, and the last one is a focus on the strategy that I suggest to use to create a selection of the wines for the marketplace."
   ]
  },
  {
   "cell_type": "markdown",
   "id": "3420575a",
   "metadata": {},
   "source": [
    "**Table of contents:**<br>\n",
    "**1. Points**<br>\n",
    "**2. Prices**<br>\n",
    "**3. Countries and provinces**<br>\n",
    "**4. Varieties**<br>\n",
    "**5. Wineries and vineyards**<br>\n",
    "**6. Strategy**"
   ]
  },
  {
   "cell_type": "markdown",
   "id": "29272b85",
   "metadata": {},
   "source": [
    "**1. Points**"
   ]
  },
  {
   "cell_type": "markdown",
   "id": "78db6d5d",
   "metadata": {},
   "source": [
    "I will start by analysing the wine's score. I would like to know how the points are distributed and which are the best rated wines."
   ]
  },
  {
   "cell_type": "code",
   "execution_count": 17,
   "id": "7ba5843a",
   "metadata": {},
   "outputs": [
    {
     "data": {
      "text/plain": [
       "count    119887.000000\n",
       "mean         88.442158\n",
       "std           3.093431\n",
       "min          80.000000\n",
       "25%          86.000000\n",
       "50%          88.000000\n",
       "75%          91.000000\n",
       "max         100.000000\n",
       "Name: points, dtype: float64"
      ]
     },
     "execution_count": 17,
     "metadata": {},
     "output_type": "execute_result"
    }
   ],
   "source": [
    "wine.points.describe()"
   ]
  },
  {
   "cell_type": "markdown",
   "id": "9b6482e5",
   "metadata": {},
   "source": [
    "The average score is 88.4, which is pretty high, considering that the maximum is 100. The lowest score is 80 which is still a great score, then, we can say that the reviewed wines are generally really good.<br>\n",
    "The mean is close to the median, I then imagine that the points are normally distributed, but I will verify it in the following graph:"
   ]
  },
  {
   "cell_type": "code",
   "execution_count": 18,
   "id": "1cee4f71",
   "metadata": {},
   "outputs": [
    {
     "data": {
      "image/png": "[encoded data removed]",
      "text/plain": [
       "<Figure size 720x360 with 1 Axes>"
      ]
     },
     "metadata": {
      "needs_background": "light"
     },
     "output_type": "display_data"
    }
   ],
   "source": [
    "plt.figure(figsize=(10,5))\n",
    "sns.histplot(data = wine, x = 'points')\n",
    "plt.title(\"Distribution of the wine's scores\")\n",
    "plt.show()"
   ]
  },
  {
   "cell_type": "markdown",
   "id": "f57d4bdd",
   "metadata": {},
   "source": [
    "Indeed the data of the graph have a distribution that is similar to the normal distribution. The points smoothly increase between 80, the minimum, and 87 and then they slightly decrease from 90, until they reach the maximum (100)."
   ]
  },
  {
   "cell_type": "markdown",
   "id": "9a608fa5",
   "metadata": {},
   "source": [
    "Which are the wines that received the maximum score?"
   ]
  },
  {
   "cell_type": "code",
   "execution_count": 19,
   "id": "49e3d7cc",
   "metadata": {},
   "outputs": [
    {
     "name": "stdout",
     "output_type": "stream",
     "text": [
      "(19, 9)\n"
     ]
    },
    {
     "data": {
      "text/html": [
       "<div>\n",
       "<style scoped>\n",
       "    .dataframe tbody tr th:only-of-type {\n",
       "        vertical-align: middle;\n",
       "    }\n",
       "\n",
       "    .dataframe tbody tr th {\n",
       "        vertical-align: top;\n",
       "    }\n",
       "\n",
       "    .dataframe thead th {\n",
       "        text-align: right;\n",
       "    }\n",
       "</style>\n",
       "<table border=\"1\" class=\"dataframe\">\n",
       "  <thead>\n",
       "    <tr style=\"text-align: right;\">\n",
       "      <th></th>\n",
       "      <th>index</th>\n",
       "      <th>country</th>\n",
       "      <th>designation</th>\n",
       "      <th>points</th>\n",
       "      <th>price</th>\n",
       "      <th>province</th>\n",
       "      <th>title</th>\n",
       "      <th>variety</th>\n",
       "      <th>winery</th>\n",
       "    </tr>\n",
       "  </thead>\n",
       "  <tbody>\n",
       "    <tr>\n",
       "      <th>345</th>\n",
       "      <td>345</td>\n",
       "      <td>Australia</td>\n",
       "      <td>Rare</td>\n",
       "      <td>100</td>\n",
       "      <td>350.0</td>\n",
       "      <td>Victoria</td>\n",
       "      <td>Chambers Rosewood Vineyards NV Rare Muscat (Ru...</td>\n",
       "      <td>Muscat</td>\n",
       "      <td>Chambers Rosewood Vineyards</td>\n",
       "    </tr>\n",
       "    <tr>\n",
       "      <th>7305</th>\n",
       "      <td>7335</td>\n",
       "      <td>Italy</td>\n",
       "      <td>Occhio di Pernice</td>\n",
       "      <td>100</td>\n",
       "      <td>210.0</td>\n",
       "      <td>Tuscany</td>\n",
       "      <td>Avignonesi 1995 Occhio di Pernice  (Vin Santo ...</td>\n",
       "      <td>Prugnolo Gentile</td>\n",
       "      <td>Avignonesi</td>\n",
       "    </tr>\n",
       "    <tr>\n",
       "      <th>35755</th>\n",
       "      <td>36528</td>\n",
       "      <td>France</td>\n",
       "      <td>Brut</td>\n",
       "      <td>100</td>\n",
       "      <td>259.0</td>\n",
       "      <td>Champagne</td>\n",
       "      <td>Krug 2002 Brut  (Champagne)</td>\n",
       "      <td>Champagne Blend</td>\n",
       "      <td>Krug</td>\n",
       "    </tr>\n",
       "    <tr>\n",
       "      <th>38378</th>\n",
       "      <td>39286</td>\n",
       "      <td>Italy</td>\n",
       "      <td>Masseto</td>\n",
       "      <td>100</td>\n",
       "      <td>460.0</td>\n",
       "      <td>Tuscany</td>\n",
       "      <td>Tenuta dell'Ornellaia 2007 Masseto Merlot (Tos...</td>\n",
       "      <td>Merlot</td>\n",
       "      <td>Tenuta dell'Ornellaia</td>\n",
       "    </tr>\n",
       "    <tr>\n",
       "      <th>41175</th>\n",
       "      <td>42197</td>\n",
       "      <td>Portugal</td>\n",
       "      <td>Barca-Velha</td>\n",
       "      <td>100</td>\n",
       "      <td>450.0</td>\n",
       "      <td>Douro</td>\n",
       "      <td>Casa Ferreirinha 2008 Barca-Velha Red (Douro)</td>\n",
       "      <td>Portuguese Red</td>\n",
       "      <td>Casa Ferreirinha</td>\n",
       "    </tr>\n",
       "    <tr>\n",
       "      <th>44537</th>\n",
       "      <td>45781</td>\n",
       "      <td>Italy</td>\n",
       "      <td>Riserva</td>\n",
       "      <td>100</td>\n",
       "      <td>550.0</td>\n",
       "      <td>Tuscany</td>\n",
       "      <td>Biondi Santi 2010 Riserva  (Brunello di Montal...</td>\n",
       "      <td>Sangiovese</td>\n",
       "      <td>Biondi Santi</td>\n",
       "    </tr>\n",
       "    <tr>\n",
       "      <th>44554</th>\n",
       "      <td>45798</td>\n",
       "      <td>US</td>\n",
       "      <td>NaN</td>\n",
       "      <td>100</td>\n",
       "      <td>200.0</td>\n",
       "      <td>California</td>\n",
       "      <td>Cardinale 2006 Cabernet Sauvignon (Napa Valley)</td>\n",
       "      <td>Cabernet Sauvignon</td>\n",
       "      <td>Cardinale</td>\n",
       "    </tr>\n",
       "    <tr>\n",
       "      <th>56288</th>\n",
       "      <td>58352</td>\n",
       "      <td>France</td>\n",
       "      <td>NaN</td>\n",
       "      <td>100</td>\n",
       "      <td>150.0</td>\n",
       "      <td>Bordeaux</td>\n",
       "      <td>Château Léoville Barton 2010  Saint-Julien</td>\n",
       "      <td>Bordeaux-style Red Blend</td>\n",
       "      <td>Château Léoville Barton</td>\n",
       "    </tr>\n",
       "    <tr>\n",
       "      <th>84850</th>\n",
       "      <td>89728</td>\n",
       "      <td>France</td>\n",
       "      <td>Cristal Vintage Brut</td>\n",
       "      <td>100</td>\n",
       "      <td>250.0</td>\n",
       "      <td>Champagne</td>\n",
       "      <td>Louis Roederer 2008 Cristal Vintage Brut  (Cha...</td>\n",
       "      <td>Champagne Blend</td>\n",
       "      <td>Louis Roederer</td>\n",
       "    </tr>\n",
       "    <tr>\n",
       "      <th>84851</th>\n",
       "      <td>89729</td>\n",
       "      <td>France</td>\n",
       "      <td>Le Mesnil Blanc de Blancs Brut</td>\n",
       "      <td>100</td>\n",
       "      <td>617.0</td>\n",
       "      <td>Champagne</td>\n",
       "      <td>Salon 2006 Le Mesnil Blanc de Blancs Brut Char...</td>\n",
       "      <td>Chardonnay</td>\n",
       "      <td>Salon</td>\n",
       "    </tr>\n",
       "    <tr>\n",
       "      <th>104278</th>\n",
       "      <td>111753</td>\n",
       "      <td>France</td>\n",
       "      <td>NaN</td>\n",
       "      <td>100</td>\n",
       "      <td>1500.0</td>\n",
       "      <td>Bordeaux</td>\n",
       "      <td>Château Lafite Rothschild 2010  Pauillac</td>\n",
       "      <td>Bordeaux-style Red Blend</td>\n",
       "      <td>Château Lafite Rothschild</td>\n",
       "    </tr>\n",
       "    <tr>\n",
       "      <th>104279</th>\n",
       "      <td>111754</td>\n",
       "      <td>Italy</td>\n",
       "      <td>Cerretalto</td>\n",
       "      <td>100</td>\n",
       "      <td>270.0</td>\n",
       "      <td>Tuscany</td>\n",
       "      <td>Casanova di Neri 2007 Cerretalto  (Brunello di...</td>\n",
       "      <td>Sangiovese Grosso</td>\n",
       "      <td>Casanova di Neri</td>\n",
       "    </tr>\n",
       "    <tr>\n",
       "      <th>104280</th>\n",
       "      <td>111755</td>\n",
       "      <td>France</td>\n",
       "      <td>NaN</td>\n",
       "      <td>100</td>\n",
       "      <td>1500.0</td>\n",
       "      <td>Bordeaux</td>\n",
       "      <td>Château Cheval Blanc 2010  Saint-Émilion</td>\n",
       "      <td>Bordeaux-style Red Blend</td>\n",
       "      <td>Château Cheval Blanc</td>\n",
       "    </tr>\n",
       "    <tr>\n",
       "      <th>104281</th>\n",
       "      <td>111756</td>\n",
       "      <td>France</td>\n",
       "      <td>NaN</td>\n",
       "      <td>100</td>\n",
       "      <td>359.0</td>\n",
       "      <td>Bordeaux</td>\n",
       "      <td>Château Léoville Las Cases 2010  Saint-Julien</td>\n",
       "      <td>Bordeaux-style Red Blend</td>\n",
       "      <td>Château Léoville Las Cases</td>\n",
       "    </tr>\n",
       "    <tr>\n",
       "      <th>106148</th>\n",
       "      <td>113929</td>\n",
       "      <td>US</td>\n",
       "      <td>Royal City</td>\n",
       "      <td>100</td>\n",
       "      <td>80.0</td>\n",
       "      <td>Washington</td>\n",
       "      <td>Charles Smith 2006 Royal City Syrah (Columbia ...</td>\n",
       "      <td>Syrah</td>\n",
       "      <td>Charles Smith</td>\n",
       "    </tr>\n",
       "    <tr>\n",
       "      <th>107069</th>\n",
       "      <td>114972</td>\n",
       "      <td>Portugal</td>\n",
       "      <td>Nacional Vintage</td>\n",
       "      <td>100</td>\n",
       "      <td>650.0</td>\n",
       "      <td>Port</td>\n",
       "      <td>Quinta do Noval 2011 Nacional Vintage  (Port)</td>\n",
       "      <td>Port</td>\n",
       "      <td>Quinta do Noval</td>\n",
       "    </tr>\n",
       "    <tr>\n",
       "      <th>109699</th>\n",
       "      <td>118058</td>\n",
       "      <td>US</td>\n",
       "      <td>La Muse</td>\n",
       "      <td>100</td>\n",
       "      <td>450.0</td>\n",
       "      <td>California</td>\n",
       "      <td>Verité 2007 La Muse Red (Sonoma County)</td>\n",
       "      <td>Bordeaux-style Red Blend</td>\n",
       "      <td>Verité</td>\n",
       "    </tr>\n",
       "    <tr>\n",
       "      <th>113947</th>\n",
       "      <td>122935</td>\n",
       "      <td>France</td>\n",
       "      <td>NaN</td>\n",
       "      <td>100</td>\n",
       "      <td>848.0</td>\n",
       "      <td>Bordeaux</td>\n",
       "      <td>Château Haut-Brion 2014  Pessac-Léognan</td>\n",
       "      <td>Bordeaux-style White Blend</td>\n",
       "      <td>Château Haut-Brion</td>\n",
       "    </tr>\n",
       "    <tr>\n",
       "      <th>114420</th>\n",
       "      <td>123545</td>\n",
       "      <td>US</td>\n",
       "      <td>Bionic Frog</td>\n",
       "      <td>100</td>\n",
       "      <td>80.0</td>\n",
       "      <td>Washington</td>\n",
       "      <td>Cayuse 2008 Bionic Frog Syrah (Walla Walla Val...</td>\n",
       "      <td>Syrah</td>\n",
       "      <td>Cayuse</td>\n",
       "    </tr>\n",
       "  </tbody>\n",
       "</table>\n",
       "</div>"
      ],
      "text/plain": [
       "         index    country                     designation  points   price  \\\n",
       "345        345  Australia                            Rare     100   350.0   \n",
       "7305      7335      Italy               Occhio di Pernice     100   210.0   \n",
       "35755    36528     France                            Brut     100   259.0   \n",
       "38378    39286      Italy                         Masseto     100   460.0   \n",
       "41175    42197   Portugal                     Barca-Velha     100   450.0   \n",
       "44537    45781      Italy                         Riserva     100   550.0   \n",
       "44554    45798         US                             NaN     100   200.0   \n",
       "56288    58352     France                             NaN     100   150.0   \n",
       "84850    89728     France            Cristal Vintage Brut     100   250.0   \n",
       "84851    89729     France  Le Mesnil Blanc de Blancs Brut     100   617.0   \n",
       "104278  111753     France                             NaN     100  1500.0   \n",
       "104279  111754      Italy                      Cerretalto     100   270.0   \n",
       "104280  111755     France                             NaN     100  1500.0   \n",
       "104281  111756     France                             NaN     100   359.0   \n",
       "106148  113929         US                      Royal City     100    80.0   \n",
       "107069  114972   Portugal                Nacional Vintage     100   650.0   \n",
       "109699  118058         US                         La Muse     100   450.0   \n",
       "113947  122935     France                             NaN     100   848.0   \n",
       "114420  123545         US                     Bionic Frog     100    80.0   \n",
       "\n",
       "          province                                              title  \\\n",
       "345       Victoria  Chambers Rosewood Vineyards NV Rare Muscat (Ru...   \n",
       "7305       Tuscany  Avignonesi 1995 Occhio di Pernice  (Vin Santo ...   \n",
       "35755    Champagne                        Krug 2002 Brut  (Champagne)   \n",
       "38378      Tuscany  Tenuta dell'Ornellaia 2007 Masseto Merlot (Tos...   \n",
       "41175        Douro      Casa Ferreirinha 2008 Barca-Velha Red (Douro)   \n",
       "44537      Tuscany  Biondi Santi 2010 Riserva  (Brunello di Montal...   \n",
       "44554   California    Cardinale 2006 Cabernet Sauvignon (Napa Valley)   \n",
       "56288     Bordeaux         Château Léoville Barton 2010  Saint-Julien   \n",
       "84850    Champagne  Louis Roederer 2008 Cristal Vintage Brut  (Cha...   \n",
       "84851    Champagne  Salon 2006 Le Mesnil Blanc de Blancs Brut Char...   \n",
       "104278    Bordeaux           Château Lafite Rothschild 2010  Pauillac   \n",
       "104279     Tuscany  Casanova di Neri 2007 Cerretalto  (Brunello di...   \n",
       "104280    Bordeaux           Château Cheval Blanc 2010  Saint-Émilion   \n",
       "104281    Bordeaux      Château Léoville Las Cases 2010  Saint-Julien   \n",
       "106148  Washington  Charles Smith 2006 Royal City Syrah (Columbia ...   \n",
       "107069        Port      Quinta do Noval 2011 Nacional Vintage  (Port)   \n",
       "109699  California            Verité 2007 La Muse Red (Sonoma County)   \n",
       "113947    Bordeaux            Château Haut-Brion 2014  Pessac-Léognan   \n",
       "114420  Washington  Cayuse 2008 Bionic Frog Syrah (Walla Walla Val...   \n",
       "\n",
       "                           variety                       winery  \n",
       "345                         Muscat  Chambers Rosewood Vineyards  \n",
       "7305              Prugnolo Gentile                   Avignonesi  \n",
       "35755              Champagne Blend                         Krug  \n",
       "38378                       Merlot        Tenuta dell'Ornellaia  \n",
       "41175               Portuguese Red             Casa Ferreirinha  \n",
       "44537                   Sangiovese                 Biondi Santi  \n",
       "44554           Cabernet Sauvignon                    Cardinale  \n",
       "56288     Bordeaux-style Red Blend      Château Léoville Barton  \n",
       "84850              Champagne Blend               Louis Roederer  \n",
       "84851                   Chardonnay                        Salon  \n",
       "104278    Bordeaux-style Red Blend    Château Lafite Rothschild  \n",
       "104279           Sangiovese Grosso             Casanova di Neri  \n",
       "104280    Bordeaux-style Red Blend         Château Cheval Blanc  \n",
       "104281    Bordeaux-style Red Blend   Château Léoville Las Cases  \n",
       "106148                       Syrah                Charles Smith  \n",
       "107069                        Port              Quinta do Noval  \n",
       "109699    Bordeaux-style Red Blend                       Verité  \n",
       "113947  Bordeaux-style White Blend           Château Haut-Brion  \n",
       "114420                       Syrah                       Cayuse  "
      ]
     },
     "execution_count": 19,
     "metadata": {},
     "output_type": "execute_result"
    }
   ],
   "source": [
    "best_score = wine[wine.points == 100]\n",
    "print(best_score.shape)\n",
    "best_score"
   ]
  },
  {
   "cell_type": "markdown",
   "id": "c079d219",
   "metadata": {},
   "source": [
    "19 wines got the highest score, 100 out of 100. They could be considered the best wines in the world.<br> Later on, I will analyse more these wines in order to find which countries and provinces produce them, what is their price and so on.<br>\n",
    "Now I want to know something more about the prices of all the reviewed wines."
   ]
  },
  {
   "cell_type": "markdown",
   "id": "fc37a376",
   "metadata": {},
   "source": [
    "**2. Wine's prices**"
   ]
  },
  {
   "cell_type": "code",
   "execution_count": 20,
   "id": "7abc71df",
   "metadata": {},
   "outputs": [
    {
     "data": {
      "text/plain": [
       "count    111495.000000\n",
       "mean         35.622916\n",
       "std          42.112669\n",
       "min           4.000000\n",
       "25%          17.000000\n",
       "50%          25.000000\n",
       "75%          42.000000\n",
       "max        3300.000000\n",
       "Name: price, dtype: float64"
      ]
     },
     "execution_count": 20,
     "metadata": {},
     "output_type": "execute_result"
    }
   ],
   "source": [
    "wine.price.describe()"
   ]
  },
  {
   "cell_type": "markdown",
   "id": "0428d377",
   "metadata": {},
   "source": [
    "We can see that the mean (35.6) is higher than the median (25), most of the prices are lower than 42 and between the minimum (4) and the maximum (3300) there is a very big difference. These information makes me think that the price's data may be right skewed or that there could be outliers. Let's then plot the prices to see their distribution, but instead of plotting the raw data I will apply the logarithm function to them in order to improve the readability of the graph."
   ]
  },
  {
   "cell_type": "code",
   "execution_count": 21,
   "id": "9e889eff",
   "metadata": {},
   "outputs": [],
   "source": [
    "wine['price_log'] = np.log(wine.price)"
   ]
  },
  {
   "cell_type": "code",
   "execution_count": 22,
   "id": "f5f65e23",
   "metadata": {},
   "outputs": [
    {
     "data": {
      "text/plain": [
       "count    111495.000000\n",
       "mean          3.317008\n",
       "std           0.659284\n",
       "min           1.386294\n",
       "25%           2.833213\n",
       "50%           3.218876\n",
       "75%           3.737670\n",
       "max           8.101678\n",
       "Name: price_log, dtype: float64"
      ]
     },
     "execution_count": 22,
     "metadata": {},
     "output_type": "execute_result"
    }
   ],
   "source": [
    "wine['price_log'].describe()"
   ]
  },
  {
   "cell_type": "code",
   "execution_count": 23,
   "id": "07cced32",
   "metadata": {
    "scrolled": true
   },
   "outputs": [
    {
     "data": {
      "image/png": "[encoded data removed]",
      "text/plain": [
       "<Figure size 720x360 with 1 Axes>"
      ]
     },
     "metadata": {
      "needs_background": "light"
     },
     "output_type": "display_data"
    }
   ],
   "source": [
    "plt.figure(figsize = (10,5))\n",
    "sns.histplot(wine['price_log'].dropna())\n",
    "plt.title(\"Distribution of the wine's prices\")\n",
    "plt.xlabel(\"Logarithm of the price\")\n",
    "plt.show()"
   ]
  },
  {
   "cell_type": "code",
   "execution_count": 24,
   "id": "f033e9b7",
   "metadata": {},
   "outputs": [
    {
     "data": {
      "image/png": "[encoded data removed]",
      "text/plain": [
       "<Figure size 720x360 with 1 Axes>"
      ]
     },
     "metadata": {
      "needs_background": "light"
     },
     "output_type": "display_data"
    }
   ],
   "source": [
    "plt.figure(figsize = (10,5))\n",
    "sns.boxplot(data = wine, x = 'price_log')\n",
    "plt.title(\"Distribution of the wine's prices\")\n",
    "plt.xlabel(\"Logarithm of the price\")\n",
    "plt.show()"
   ]
  },
  {
   "cell_type": "markdown",
   "id": "63717c7b",
   "metadata": {},
   "source": [
    "As suspected the price's distribution is right-skewed, and there are a lot of outliers, i.e. there are some prices that are significantly higher than the others.<br>\n",
    "I want to know something more about these outliers, let's see the top 20 of the most expensive wines:"
   ]
  },
  {
   "cell_type": "code",
   "execution_count": 25,
   "id": "65428b1a",
   "metadata": {},
   "outputs": [
    {
     "data": {
      "text/html": [
       "<div>\n",
       "<style scoped>\n",
       "    .dataframe tbody tr th:only-of-type {\n",
       "        vertical-align: middle;\n",
       "    }\n",
       "\n",
       "    .dataframe tbody tr th {\n",
       "        vertical-align: top;\n",
       "    }\n",
       "\n",
       "    .dataframe thead th {\n",
       "        text-align: right;\n",
       "    }\n",
       "</style>\n",
       "<table border=\"1\" class=\"dataframe\">\n",
       "  <thead>\n",
       "    <tr style=\"text-align: right;\">\n",
       "      <th></th>\n",
       "      <th>index</th>\n",
       "      <th>country</th>\n",
       "      <th>designation</th>\n",
       "      <th>points</th>\n",
       "      <th>price</th>\n",
       "      <th>province</th>\n",
       "      <th>title</th>\n",
       "      <th>variety</th>\n",
       "      <th>winery</th>\n",
       "      <th>price_log</th>\n",
       "    </tr>\n",
       "  </thead>\n",
       "  <tbody>\n",
       "    <tr>\n",
       "      <th>76275</th>\n",
       "      <td>80290</td>\n",
       "      <td>France</td>\n",
       "      <td>NaN</td>\n",
       "      <td>88</td>\n",
       "      <td>3300.0</td>\n",
       "      <td>Bordeaux</td>\n",
       "      <td>Château les Ormes Sorbet 2013  Médoc</td>\n",
       "      <td>Bordeaux-style Red Blend</td>\n",
       "      <td>Château les Ormes Sorbet</td>\n",
       "      <td>8.101678</td>\n",
       "    </tr>\n",
       "    <tr>\n",
       "      <th>92530</th>\n",
       "      <td>98380</td>\n",
       "      <td>France</td>\n",
       "      <td>NaN</td>\n",
       "      <td>96</td>\n",
       "      <td>2500.0</td>\n",
       "      <td>Burgundy</td>\n",
       "      <td>Domaine du Comte Liger-Belair 2010  La Romanée</td>\n",
       "      <td>Pinot Noir</td>\n",
       "      <td>Domaine du Comte Liger-Belair</td>\n",
       "      <td>7.824046</td>\n",
       "    </tr>\n",
       "    <tr>\n",
       "      <th>15712</th>\n",
       "      <td>15840</td>\n",
       "      <td>France</td>\n",
       "      <td>NaN</td>\n",
       "      <td>96</td>\n",
       "      <td>2500.0</td>\n",
       "      <td>Bordeaux</td>\n",
       "      <td>Château Pétrus 2014  Pomerol</td>\n",
       "      <td>Bordeaux-style Red Blend</td>\n",
       "      <td>Château Pétrus</td>\n",
       "      <td>7.824046</td>\n",
       "    </tr>\n",
       "    <tr>\n",
       "      <th>111679</th>\n",
       "      <td>120391</td>\n",
       "      <td>US</td>\n",
       "      <td>Roger Rose Vineyard</td>\n",
       "      <td>91</td>\n",
       "      <td>2013.0</td>\n",
       "      <td>California</td>\n",
       "      <td>Blair 2013 Roger Rose Vineyard Chardonnay (Arr...</td>\n",
       "      <td>Chardonnay</td>\n",
       "      <td>Blair</td>\n",
       "      <td>7.607381</td>\n",
       "    </tr>\n",
       "    <tr>\n",
       "      <th>105812</th>\n",
       "      <td>113564</td>\n",
       "      <td>France</td>\n",
       "      <td>NaN</td>\n",
       "      <td>96</td>\n",
       "      <td>2000.0</td>\n",
       "      <td>Burgundy</td>\n",
       "      <td>Domaine du Comte Liger-Belair 2005  La Romanée</td>\n",
       "      <td>Pinot Noir</td>\n",
       "      <td>Domaine du Comte Liger-Belair</td>\n",
       "      <td>7.600902</td>\n",
       "    </tr>\n",
       "    <tr>\n",
       "      <th>62687</th>\n",
       "      <td>65352</td>\n",
       "      <td>France</td>\n",
       "      <td>NaN</td>\n",
       "      <td>97</td>\n",
       "      <td>2000.0</td>\n",
       "      <td>Bordeaux</td>\n",
       "      <td>Château Pétrus 2011  Pomerol</td>\n",
       "      <td>Bordeaux-style Red Blend</td>\n",
       "      <td>Château Pétrus</td>\n",
       "      <td>7.600902</td>\n",
       "    </tr>\n",
       "    <tr>\n",
       "      <th>1557</th>\n",
       "      <td>1558</td>\n",
       "      <td>France</td>\n",
       "      <td>NaN</td>\n",
       "      <td>98</td>\n",
       "      <td>1900.0</td>\n",
       "      <td>Bordeaux</td>\n",
       "      <td>Château Margaux 2009  Margaux</td>\n",
       "      <td>Bordeaux-style Red Blend</td>\n",
       "      <td>Château Margaux</td>\n",
       "      <td>7.549609</td>\n",
       "    </tr>\n",
       "    <tr>\n",
       "      <th>104278</th>\n",
       "      <td>111753</td>\n",
       "      <td>France</td>\n",
       "      <td>NaN</td>\n",
       "      <td>100</td>\n",
       "      <td>1500.0</td>\n",
       "      <td>Bordeaux</td>\n",
       "      <td>Château Lafite Rothschild 2010  Pauillac</td>\n",
       "      <td>Bordeaux-style Red Blend</td>\n",
       "      <td>Château Lafite Rothschild</td>\n",
       "      <td>7.313220</td>\n",
       "    </tr>\n",
       "    <tr>\n",
       "      <th>104280</th>\n",
       "      <td>111755</td>\n",
       "      <td>France</td>\n",
       "      <td>NaN</td>\n",
       "      <td>100</td>\n",
       "      <td>1500.0</td>\n",
       "      <td>Bordeaux</td>\n",
       "      <td>Château Cheval Blanc 2010  Saint-Émilion</td>\n",
       "      <td>Bordeaux-style Red Blend</td>\n",
       "      <td>Château Cheval Blanc</td>\n",
       "      <td>7.313220</td>\n",
       "    </tr>\n",
       "    <tr>\n",
       "      <th>1574</th>\n",
       "      <td>1575</td>\n",
       "      <td>France</td>\n",
       "      <td>NaN</td>\n",
       "      <td>96</td>\n",
       "      <td>1300.0</td>\n",
       "      <td>Bordeaux</td>\n",
       "      <td>Château Mouton Rothschild 2009  Pauillac</td>\n",
       "      <td>Bordeaux-style Red Blend</td>\n",
       "      <td>Château Mouton Rothschild</td>\n",
       "      <td>7.170120</td>\n",
       "    </tr>\n",
       "    <tr>\n",
       "      <th>1570</th>\n",
       "      <td>1571</td>\n",
       "      <td>France</td>\n",
       "      <td>NaN</td>\n",
       "      <td>96</td>\n",
       "      <td>1200.0</td>\n",
       "      <td>Bordeaux</td>\n",
       "      <td>Château Haut-Brion 2009  Pessac-Léognan</td>\n",
       "      <td>Bordeaux-style Red Blend</td>\n",
       "      <td>Château Haut-Brion</td>\n",
       "      <td>7.090077</td>\n",
       "    </tr>\n",
       "    <tr>\n",
       "      <th>105829</th>\n",
       "      <td>113581</td>\n",
       "      <td>France</td>\n",
       "      <td>NaN</td>\n",
       "      <td>94</td>\n",
       "      <td>1125.0</td>\n",
       "      <td>Burgundy</td>\n",
       "      <td>Domaine du Comte Liger-Belair 2006  La Romanée</td>\n",
       "      <td>Pinot Noir</td>\n",
       "      <td>Domaine du Comte Liger-Belair</td>\n",
       "      <td>7.025538</td>\n",
       "    </tr>\n",
       "    <tr>\n",
       "      <th>1565</th>\n",
       "      <td>1566</td>\n",
       "      <td>France</td>\n",
       "      <td>NaN</td>\n",
       "      <td>97</td>\n",
       "      <td>1100.0</td>\n",
       "      <td>Bordeaux</td>\n",
       "      <td>Château La Mission Haut-Brion 2009  Pessac-Léo...</td>\n",
       "      <td>Bordeaux-style Red Blend</td>\n",
       "      <td>Château La Mission Haut-Brion</td>\n",
       "      <td>7.003065</td>\n",
       "    </tr>\n",
       "    <tr>\n",
       "      <th>84634</th>\n",
       "      <td>89478</td>\n",
       "      <td>Austria</td>\n",
       "      <td>Ried Loibenberg Smaragd</td>\n",
       "      <td>94</td>\n",
       "      <td>1100.0</td>\n",
       "      <td>Wachau</td>\n",
       "      <td>Emmerich Knoll 2013 Ried Loibenberg Smaragd Gr...</td>\n",
       "      <td>Grüner Veltliner</td>\n",
       "      <td>Emmerich Knoll</td>\n",
       "      <td>7.003065</td>\n",
       "    </tr>\n",
       "    <tr>\n",
       "      <th>35758</th>\n",
       "      <td>36531</td>\n",
       "      <td>Portugal</td>\n",
       "      <td>90-year Old Tawny</td>\n",
       "      <td>97</td>\n",
       "      <td>1000.0</td>\n",
       "      <td>Port</td>\n",
       "      <td>W. &amp; J. Graham's NV 90-year Old Tawny  (Port)</td>\n",
       "      <td>Port</td>\n",
       "      <td>W. &amp; J. Graham's</td>\n",
       "      <td>6.907755</td>\n",
       "    </tr>\n",
       "    <tr>\n",
       "      <th>66488</th>\n",
       "      <td>69516</td>\n",
       "      <td>France</td>\n",
       "      <td>NaN</td>\n",
       "      <td>94</td>\n",
       "      <td>1000.0</td>\n",
       "      <td>Bordeaux</td>\n",
       "      <td>Château La Mission Haut-Brion 2009  Pessac-Léo...</td>\n",
       "      <td>Bordeaux-style White Blend</td>\n",
       "      <td>Château La Mission Haut-Brion</td>\n",
       "      <td>6.907755</td>\n",
       "    </tr>\n",
       "    <tr>\n",
       "      <th>40450</th>\n",
       "      <td>41441</td>\n",
       "      <td>Portugal</td>\n",
       "      <td>Colheita White</td>\n",
       "      <td>94</td>\n",
       "      <td>980.0</td>\n",
       "      <td>Port</td>\n",
       "      <td>Kopke 1935 Colheita White  (Port)</td>\n",
       "      <td>Port</td>\n",
       "      <td>Kopke</td>\n",
       "      <td>6.887553</td>\n",
       "    </tr>\n",
       "    <tr>\n",
       "      <th>80327</th>\n",
       "      <td>84820</td>\n",
       "      <td>France</td>\n",
       "      <td>NaN</td>\n",
       "      <td>95</td>\n",
       "      <td>973.0</td>\n",
       "      <td>Burgundy</td>\n",
       "      <td>Domaine Jacques Prieur 2014  Musigny</td>\n",
       "      <td>Pinot Noir</td>\n",
       "      <td>Domaine Jacques Prieur</td>\n",
       "      <td>6.880384</td>\n",
       "    </tr>\n",
       "    <tr>\n",
       "      <th>52594</th>\n",
       "      <td>54298</td>\n",
       "      <td>France</td>\n",
       "      <td>NaN</td>\n",
       "      <td>97</td>\n",
       "      <td>932.0</td>\n",
       "      <td>Bordeaux</td>\n",
       "      <td>Château Haut-Brion 2013  Pessac-Léognan</td>\n",
       "      <td>Bordeaux-style White Blend</td>\n",
       "      <td>Château Haut-Brion</td>\n",
       "      <td>6.837333</td>\n",
       "    </tr>\n",
       "    <tr>\n",
       "      <th>84105</th>\n",
       "      <td>88870</td>\n",
       "      <td>Italy</td>\n",
       "      <td>Riserva</td>\n",
       "      <td>94</td>\n",
       "      <td>900.0</td>\n",
       "      <td>Tuscany</td>\n",
       "      <td>Biondi Santi 2006 Riserva  (Brunello di Montal...</td>\n",
       "      <td>Sangiovese Grosso</td>\n",
       "      <td>Biondi Santi</td>\n",
       "      <td>6.802395</td>\n",
       "    </tr>\n",
       "  </tbody>\n",
       "</table>\n",
       "</div>"
      ],
      "text/plain": [
       "         index   country              designation  points   price    province  \\\n",
       "76275    80290    France                      NaN      88  3300.0    Bordeaux   \n",
       "92530    98380    France                      NaN      96  2500.0    Burgundy   \n",
       "15712    15840    France                      NaN      96  2500.0    Bordeaux   \n",
       "111679  120391        US      Roger Rose Vineyard      91  2013.0  California   \n",
       "105812  113564    France                      NaN      96  2000.0    Burgundy   \n",
       "62687    65352    France                      NaN      97  2000.0    Bordeaux   \n",
       "1557      1558    France                      NaN      98  1900.0    Bordeaux   \n",
       "104278  111753    France                      NaN     100  1500.0    Bordeaux   \n",
       "104280  111755    France                      NaN     100  1500.0    Bordeaux   \n",
       "1574      1575    France                      NaN      96  1300.0    Bordeaux   \n",
       "1570      1571    France                      NaN      96  1200.0    Bordeaux   \n",
       "105829  113581    France                      NaN      94  1125.0    Burgundy   \n",
       "1565      1566    France                      NaN      97  1100.0    Bordeaux   \n",
       "84634    89478   Austria  Ried Loibenberg Smaragd      94  1100.0      Wachau   \n",
       "35758    36531  Portugal        90-year Old Tawny      97  1000.0        Port   \n",
       "66488    69516    France                      NaN      94  1000.0    Bordeaux   \n",
       "40450    41441  Portugal           Colheita White      94   980.0        Port   \n",
       "80327    84820    France                      NaN      95   973.0    Burgundy   \n",
       "52594    54298    France                      NaN      97   932.0    Bordeaux   \n",
       "84105    88870     Italy                  Riserva      94   900.0     Tuscany   \n",
       "\n",
       "                                                    title  \\\n",
       "76275                Château les Ormes Sorbet 2013  Médoc   \n",
       "92530      Domaine du Comte Liger-Belair 2010  La Romanée   \n",
       "15712                        Château Pétrus 2014  Pomerol   \n",
       "111679  Blair 2013 Roger Rose Vineyard Chardonnay (Arr...   \n",
       "105812     Domaine du Comte Liger-Belair 2005  La Romanée   \n",
       "62687                        Château Pétrus 2011  Pomerol   \n",
       "1557                        Château Margaux 2009  Margaux   \n",
       "104278           Château Lafite Rothschild 2010  Pauillac   \n",
       "104280           Château Cheval Blanc 2010  Saint-Émilion   \n",
       "1574             Château Mouton Rothschild 2009  Pauillac   \n",
       "1570              Château Haut-Brion 2009  Pessac-Léognan   \n",
       "105829     Domaine du Comte Liger-Belair 2006  La Romanée   \n",
       "1565    Château La Mission Haut-Brion 2009  Pessac-Léo...   \n",
       "84634   Emmerich Knoll 2013 Ried Loibenberg Smaragd Gr...   \n",
       "35758       W. & J. Graham's NV 90-year Old Tawny  (Port)   \n",
       "66488   Château La Mission Haut-Brion 2009  Pessac-Léo...   \n",
       "40450                   Kopke 1935 Colheita White  (Port)   \n",
       "80327                Domaine Jacques Prieur 2014  Musigny   \n",
       "52594             Château Haut-Brion 2013  Pessac-Léognan   \n",
       "84105   Biondi Santi 2006 Riserva  (Brunello di Montal...   \n",
       "\n",
       "                           variety                         winery  price_log  \n",
       "76275     Bordeaux-style Red Blend       Château les Ormes Sorbet   8.101678  \n",
       "92530                   Pinot Noir  Domaine du Comte Liger-Belair   7.824046  \n",
       "15712     Bordeaux-style Red Blend                 Château Pétrus   7.824046  \n",
       "111679                  Chardonnay                          Blair   7.607381  \n",
       "105812                  Pinot Noir  Domaine du Comte Liger-Belair   7.600902  \n",
       "62687     Bordeaux-style Red Blend                 Château Pétrus   7.600902  \n",
       "1557      Bordeaux-style Red Blend                Château Margaux   7.549609  \n",
       "104278    Bordeaux-style Red Blend      Château Lafite Rothschild   7.313220  \n",
       "104280    Bordeaux-style Red Blend           Château Cheval Blanc   7.313220  \n",
       "1574      Bordeaux-style Red Blend      Château Mouton Rothschild   7.170120  \n",
       "1570      Bordeaux-style Red Blend             Château Haut-Brion   7.090077  \n",
       "105829                  Pinot Noir  Domaine du Comte Liger-Belair   7.025538  \n",
       "1565      Bordeaux-style Red Blend  Château La Mission Haut-Brion   7.003065  \n",
       "84634             Grüner Veltliner                 Emmerich Knoll   7.003065  \n",
       "35758                         Port               W. & J. Graham's   6.907755  \n",
       "66488   Bordeaux-style White Blend  Château La Mission Haut-Brion   6.907755  \n",
       "40450                         Port                          Kopke   6.887553  \n",
       "80327                   Pinot Noir         Domaine Jacques Prieur   6.880384  \n",
       "52594   Bordeaux-style White Blend             Château Haut-Brion   6.837333  \n",
       "84105            Sangiovese Grosso                   Biondi Santi   6.802395  "
      ]
     },
     "execution_count": 25,
     "metadata": {},
     "output_type": "execute_result"
    }
   ],
   "source": [
    "exp_wine = wine.sort_values(by = 'price',ascending = False).head(20)\n",
    "exp_wine"
   ]
  },
  {
   "cell_type": "markdown",
   "id": "300d188b",
   "metadata": {},
   "source": [
    "Almost every wine in the top 20 is from France, mostly from the region of Bordeaux, and they all have a score above the average, which is 88, but only two received the maximum number of points.<br>\n",
    "Therefore, what is the cost of the wines with the highest score?"
   ]
  },
  {
   "cell_type": "code",
   "execution_count": 26,
   "id": "1e728aef",
   "metadata": {},
   "outputs": [
    {
     "data": {
      "image/png": "[encoded data removed]",
      "text/plain": [
       "<Figure size 432x360 with 1 Axes>"
      ]
     },
     "metadata": {
      "needs_background": "light"
     },
     "output_type": "display_data"
    }
   ],
   "source": [
    "plt.figure(figsize = (6,5))\n",
    "sns.histplot(data = best_score, x = 'price')\n",
    "plt.title(\"Price of the top-rated wines\")\n",
    "plt.xlabel(\"Price of a bottle\")\n",
    "plt.show()"
   ]
  },
  {
   "cell_type": "markdown",
   "id": "fb2eb353",
   "metadata": {},
   "source": [
    "The wines that received the best score have a medium to high price. Most of the best bottles costs between 200 and 400.<br> In compliance with the previous consideration on the top 20, the most expensive wines (price over 1500) don't figure in the best reviewed ones."
   ]
  },
  {
   "cell_type": "markdown",
   "id": "1ecaef8d",
   "metadata": {},
   "source": [
    "However I suspect that these results are the effect of the outliers and I think that there could actually be a correlation between the price of a bottle and his score."
   ]
  },
  {
   "cell_type": "code",
   "execution_count": 27,
   "id": "74a84be5",
   "metadata": {},
   "outputs": [
    {
     "data": {
      "text/plain": [
       "<Figure size 1080x360 with 0 Axes>"
      ]
     },
     "metadata": {},
     "output_type": "display_data"
    },
    {
     "data": {
      "image/png": "[encoded data removed]",
      "text/plain": [
       "<Figure size 360x360 with 1 Axes>"
      ]
     },
     "metadata": {
      "needs_background": "light"
     },
     "output_type": "display_data"
    }
   ],
   "source": [
    "plt.figure(figsize = (15,5))\n",
    "sns.relplot(data = wine, x = 'price_log', y = 'points')\n",
    "plt.title(\"Correlation between price and score of a bottle\")\n",
    "plt.xlabel(\"Logarithm of the price\")\n",
    "plt.ylabel(\"Score\")\n",
    "plt.show()"
   ]
  },
  {
   "cell_type": "markdown",
   "id": "cf04f9b2",
   "metadata": {},
   "source": [
    "In fact the graph shows that there is a correlation between the price of a bottle of wine and his score, but the price range is pretty big for each score. <br> Accordingly, we can find both expensive and cheap wines with really good review, but generally the ones that received higher scores have a higher price than the average."
   ]
  },
  {
   "cell_type": "markdown",
   "id": "44fd36f4",
   "metadata": {},
   "source": [
    "**3. Country & province**"
   ]
  },
  {
   "cell_type": "markdown",
   "id": "5fe8006f",
   "metadata": {},
   "source": [
    "In this section I want to know the origin of the wines, in term of countries and provinces, when possible.<br> More particularly I want to find out information like which countries have the biggest winery production, where the best wines are made and which state has the highest prices."
   ]
  },
  {
   "cell_type": "markdown",
   "id": "a2acf4af",
   "metadata": {},
   "source": [
    "Where do the reviewed wines come from?"
   ]
  },
  {
   "cell_type": "code",
   "execution_count": 28,
   "id": "b521f28b",
   "metadata": {},
   "outputs": [
    {
     "data": {
      "text/plain": [
       "array(['Italy', 'Portugal', 'US', 'Spain', 'France', 'Germany',\n",
       "       'Argentina', 'Chile', 'Australia', 'Austria', 'South Africa',\n",
       "       'New Zealand', 'Israel', 'Hungary', 'Greece', 'Romania', 'Mexico',\n",
       "       'Canada', nan, 'Turkey', 'Czech Republic', 'Slovenia',\n",
       "       'Luxembourg', 'Croatia', 'Georgia', 'Uruguay', 'England',\n",
       "       'Lebanon', 'Serbia', 'Brazil', 'Moldova', 'Morocco', 'Peru',\n",
       "       'India', 'Bulgaria', 'Cyprus', 'Armenia', 'Switzerland',\n",
       "       'Bosnia and Herzegovina', 'Ukraine', 'Slovakia', 'Macedonia',\n",
       "       'China', 'Egypt'], dtype=object)"
      ]
     },
     "execution_count": 28,
     "metadata": {},
     "output_type": "execute_result"
    }
   ],
   "source": [
    "wine.country.unique()"
   ]
  },
  {
   "cell_type": "markdown",
   "id": "0ac9f543",
   "metadata": {},
   "source": [
    "Now let's see the top 15 of the countries that produce more wine:"
   ]
  },
  {
   "cell_type": "code",
   "execution_count": 29,
   "id": "ad829260",
   "metadata": {},
   "outputs": [],
   "source": [
    "country = wine.country.value_counts().head(15)"
   ]
  },
  {
   "cell_type": "code",
   "execution_count": 30,
   "id": "d905cf08",
   "metadata": {},
   "outputs": [
    {
     "data": {
      "image/png": "[encoded data removed]",
      "text/plain": [
       "<Figure size 1080x360 with 1 Axes>"
      ]
     },
     "metadata": {
      "needs_background": "light"
     },
     "output_type": "display_data"
    }
   ],
   "source": [
    "plt.figure(figsize = (15,5))\n",
    "country.plot.bar()\n",
    "plt.title(\"Top 15 wine producer countries\")\n",
    "plt.xlabel(\"Country\")\n",
    "plt.ylabel(\"Number of wines produced\")\n",
    "plt.xticks(rotation = 45)\n",
    "plt.show()"
   ]
  },
  {
   "cell_type": "markdown",
   "id": "470db675",
   "metadata": {},
   "source": [
    "The largest producer of wine of the world is the United States, followed by France and Italy."
   ]
  },
  {
   "cell_type": "markdown",
   "id": "b5a45315",
   "metadata": {},
   "source": [
    "I want now to analyse deeper wine's points and prices, according to the country of production. Let's start with the average score of the wines."
   ]
  },
  {
   "cell_type": "code",
   "execution_count": 31,
   "id": "fa15eb6a",
   "metadata": {},
   "outputs": [
    {
     "data": {
      "image/png": "[encoded data removed]",
      "text/plain": [
       "<Figure size 864x720 with 1 Axes>"
      ]
     },
     "metadata": {
      "needs_background": "light"
     },
     "output_type": "display_data"
    }
   ],
   "source": [
    "test = wine.groupby(['country',]).mean()['points'].sort_values(ascending=False).to_frame()\n",
    "plt.figure(figsize = (12,10))\n",
    "sns.pointplot(x = test.points, y = test.index)\n",
    "plt.title(\"Average score of a wine bottle, per country\")\n",
    "plt.show()"
   ]
  },
  {
   "cell_type": "markdown",
   "id": "5ab077d9",
   "metadata": {},
   "source": [
    "England seems to be the best wine producer country, followed by India and Austria. However, even if they certainly have very good wines, neither England nor India figure in the 15 largest producer countries. Let's analyse the score of the 15 countries that produce most of the wine in the world."
   ]
  },
  {
   "cell_type": "code",
   "execution_count": 32,
   "id": "6550ba7c",
   "metadata": {},
   "outputs": [
    {
     "data": {
      "image/png": "[encoded data removed]",
      "text/plain": [
       "<Figure size 1080x360 with 1 Axes>"
      ]
     },
     "metadata": {
      "needs_background": "light"
     },
     "output_type": "display_data"
    }
   ],
   "source": [
    "plt.figure(figsize = (15,5))\n",
    "sns.boxplot(x = 'country', y = 'points', data=wine[wine.country.isin(country.index.values)])\n",
    "plt.title(\"Distribution of the score of a bottle, per country\")\n",
    "plt.xticks(rotation = 45)\n",
    "plt.show()"
   ]
  },
  {
   "cell_type": "markdown",
   "id": "6a24c663",
   "metadata": {},
   "source": [
    "Now let's analyse the prices in each country:"
   ]
  },
  {
   "cell_type": "code",
   "execution_count": 33,
   "id": "a5dc10e8",
   "metadata": {},
   "outputs": [
    {
     "data": {
      "image/png": "[encoded data removed]",
      "text/plain": [
       "<Figure size 864x720 with 1 Axes>"
      ]
     },
     "metadata": {
      "needs_background": "light"
     },
     "output_type": "display_data"
    }
   ],
   "source": [
    "test = wine.groupby(['country',]).mean()['price'].sort_values(ascending=False).to_frame()\n",
    "plt.figure(figsize = (12,10))\n",
    "sns.pointplot(x = test['price'] ,y = test.index)\n",
    "plt.title(\"Average price of a wine bottle, per country\")\n",
    "plt.show()"
   ]
  },
  {
   "cell_type": "markdown",
   "id": "2f78a3c4",
   "metadata": {},
   "source": [
    "Let's see the distribution of the wines' prices of the 15 largest producer countries :"
   ]
  },
  {
   "cell_type": "code",
   "execution_count": 34,
   "id": "03800415",
   "metadata": {},
   "outputs": [
    {
     "data": {
      "image/png": "[encoded data removed]",
      "text/plain": [
       "<Figure size 1080x360 with 1 Axes>"
      ]
     },
     "metadata": {
      "needs_background": "light"
     },
     "output_type": "display_data"
    }
   ],
   "source": [
    "plt.figure(figsize = (15,5))\n",
    "sns.boxplot(x='country', y='price_log', data=wine[wine.country.isin(country.index.values)])\n",
    "plt.title(\"Distribution of the prices of a bottle, per country\")\n",
    "plt.ylabel(\"Logarithm of the price\")\n",
    "plt.xticks(rotation = 45)\n",
    "plt.show()"
   ]
  },
  {
   "cell_type": "markdown",
   "id": "9df19464",
   "metadata": {},
   "source": [
    "Where are they producing the wines with the highest score?"
   ]
  },
  {
   "cell_type": "code",
   "execution_count": 35,
   "id": "c83d15ce",
   "metadata": {},
   "outputs": [
    {
     "data": {
      "text/html": [
       "<div>\n",
       "<style scoped>\n",
       "    .dataframe tbody tr th:only-of-type {\n",
       "        vertical-align: middle;\n",
       "    }\n",
       "\n",
       "    .dataframe tbody tr th {\n",
       "        vertical-align: top;\n",
       "    }\n",
       "\n",
       "    .dataframe thead th {\n",
       "        text-align: right;\n",
       "    }\n",
       "</style>\n",
       "<table border=\"1\" class=\"dataframe\">\n",
       "  <thead>\n",
       "    <tr style=\"text-align: right;\">\n",
       "      <th></th>\n",
       "      <th>points</th>\n",
       "    </tr>\n",
       "    <tr>\n",
       "      <th>country</th>\n",
       "      <th></th>\n",
       "    </tr>\n",
       "  </thead>\n",
       "  <tbody>\n",
       "    <tr>\n",
       "      <th>France</th>\n",
       "      <td>8</td>\n",
       "    </tr>\n",
       "    <tr>\n",
       "      <th>Italy</th>\n",
       "      <td>4</td>\n",
       "    </tr>\n",
       "    <tr>\n",
       "      <th>US</th>\n",
       "      <td>4</td>\n",
       "    </tr>\n",
       "    <tr>\n",
       "      <th>Portugal</th>\n",
       "      <td>2</td>\n",
       "    </tr>\n",
       "    <tr>\n",
       "      <th>Australia</th>\n",
       "      <td>1</td>\n",
       "    </tr>\n",
       "  </tbody>\n",
       "</table>\n",
       "</div>"
      ],
      "text/plain": [
       "           points\n",
       "country          \n",
       "France          8\n",
       "Italy           4\n",
       "US              4\n",
       "Portugal        2\n",
       "Australia       1"
      ]
     },
     "execution_count": 35,
     "metadata": {},
     "output_type": "execute_result"
    }
   ],
   "source": [
    "top_wines = best_score.pivot_table(values = 'points',\n",
    "                                   index = 'country',\n",
    "                                   aggfunc='count').sort_values('points', ascending=False)\n",
    "top_wines"
   ]
  },
  {
   "cell_type": "markdown",
   "id": "6f0cd989",
   "metadata": {},
   "source": [
    "As we could imagine, France is the one that produces most of the best wines, followed by Italy and the United States.\n",
    "Indeed these three countries are also the ones that has the biggest wine production, as we saw earlier."
   ]
  },
  {
   "cell_type": "markdown",
   "id": "7ba7ebf5",
   "metadata": {},
   "source": [
    "I'm curious about the provinces that makes the best wines."
   ]
  },
  {
   "cell_type": "code",
   "execution_count": 36,
   "id": "6e853699",
   "metadata": {},
   "outputs": [],
   "source": [
    "top_province = best_score.pivot_table(values = 'points',\n",
    "                                   index = 'province',\n",
    "                                   aggfunc='count').sort_values('points', ascending=False)"
   ]
  },
  {
   "cell_type": "code",
   "execution_count": 37,
   "id": "685149b9",
   "metadata": {},
   "outputs": [
    {
     "data": {
      "text/html": [
       "<div>\n",
       "<style scoped>\n",
       "    .dataframe tbody tr th:only-of-type {\n",
       "        vertical-align: middle;\n",
       "    }\n",
       "\n",
       "    .dataframe tbody tr th {\n",
       "        vertical-align: top;\n",
       "    }\n",
       "\n",
       "    .dataframe thead th {\n",
       "        text-align: right;\n",
       "    }\n",
       "</style>\n",
       "<table border=\"1\" class=\"dataframe\">\n",
       "  <thead>\n",
       "    <tr style=\"text-align: right;\">\n",
       "      <th></th>\n",
       "      <th>points</th>\n",
       "    </tr>\n",
       "    <tr>\n",
       "      <th>province</th>\n",
       "      <th></th>\n",
       "    </tr>\n",
       "  </thead>\n",
       "  <tbody>\n",
       "    <tr>\n",
       "      <th>Bordeaux</th>\n",
       "      <td>5</td>\n",
       "    </tr>\n",
       "    <tr>\n",
       "      <th>Tuscany</th>\n",
       "      <td>4</td>\n",
       "    </tr>\n",
       "    <tr>\n",
       "      <th>Champagne</th>\n",
       "      <td>3</td>\n",
       "    </tr>\n",
       "    <tr>\n",
       "      <th>California</th>\n",
       "      <td>2</td>\n",
       "    </tr>\n",
       "    <tr>\n",
       "      <th>Washington</th>\n",
       "      <td>2</td>\n",
       "    </tr>\n",
       "    <tr>\n",
       "      <th>Douro</th>\n",
       "      <td>1</td>\n",
       "    </tr>\n",
       "    <tr>\n",
       "      <th>Port</th>\n",
       "      <td>1</td>\n",
       "    </tr>\n",
       "    <tr>\n",
       "      <th>Victoria</th>\n",
       "      <td>1</td>\n",
       "    </tr>\n",
       "  </tbody>\n",
       "</table>\n",
       "</div>"
      ],
      "text/plain": [
       "            points\n",
       "province          \n",
       "Bordeaux         5\n",
       "Tuscany          4\n",
       "Champagne        3\n",
       "California       2\n",
       "Washington       2\n",
       "Douro            1\n",
       "Port             1\n",
       "Victoria         1"
      ]
     },
     "execution_count": 37,
     "metadata": {},
     "output_type": "execute_result"
    }
   ],
   "source": [
    "top_province"
   ]
  },
  {
   "cell_type": "markdown",
   "id": "dce90ec1",
   "metadata": {},
   "source": [
    "The province of Bordeaux is on top of the ranking, with 5 wines considered among the bests. France has also another region that produces the best wines, the famous Champagne, while the italian wines all come from the same province, Tuscany, that appears in second place.\n",
    "Below we find 2 wines from California and 2 from Washington, United States, then the 2 portuguese wines from Douro and Port, and the last wine comes from Victoria, in Australia."
   ]
  },
  {
   "cell_type": "markdown",
   "id": "42c5a00a",
   "metadata": {},
   "source": [
    "**4. Variety**"
   ]
  },
  {
   "cell_type": "markdown",
   "id": "d2f8a11f",
   "metadata": {},
   "source": [
    "In this section I would like to know something about the most produced varieties, the most rated and expensive ones."
   ]
  },
  {
   "cell_type": "markdown",
   "id": "a5365410",
   "metadata": {},
   "source": [
    "First of all, let's see the distribution of the points given to the wines of the 15 most produced varieties."
   ]
  },
  {
   "cell_type": "code",
   "execution_count": 38,
   "id": "2a6ae94d",
   "metadata": {},
   "outputs": [],
   "source": [
    "varieties = wine.variety.value_counts().head(15)"
   ]
  },
  {
   "cell_type": "code",
   "execution_count": 39,
   "id": "2a5eb4ab",
   "metadata": {},
   "outputs": [
    {
     "data": {
      "image/png": "[encoded data removed]",
      "text/plain": [
       "<Figure size 1080x360 with 1 Axes>"
      ]
     },
     "metadata": {
      "needs_background": "light"
     },
     "output_type": "display_data"
    }
   ],
   "source": [
    "plt.figure(figsize = (15,5))\n",
    "sns.boxplot(x='variety', y='points', data=wine[wine.variety.isin(varieties.index.values)])\n",
    "plt.title(\"Distribution of the score of a bottle, per variety\")\n",
    "plt.xticks(rotation = 45)\n",
    "plt.show()"
   ]
  },
  {
   "cell_type": "markdown",
   "id": "9a343798",
   "metadata": {},
   "source": [
    "The most produced varieties tend to have good score, with the median between 87 and 90. Many of them have wines with the highest score and some of them, in particular Red Blend and Sangiovese, have outliers."
   ]
  },
  {
   "cell_type": "markdown",
   "id": "77fa0a69",
   "metadata": {},
   "source": [
    "Let's see the varieties of the wines that received the best score."
   ]
  },
  {
   "cell_type": "code",
   "execution_count": 40,
   "id": "0b503383",
   "metadata": {},
   "outputs": [
    {
     "data": {
      "text/html": [
       "<div>\n",
       "<style scoped>\n",
       "    .dataframe tbody tr th:only-of-type {\n",
       "        vertical-align: middle;\n",
       "    }\n",
       "\n",
       "    .dataframe tbody tr th {\n",
       "        vertical-align: top;\n",
       "    }\n",
       "\n",
       "    .dataframe thead th {\n",
       "        text-align: right;\n",
       "    }\n",
       "</style>\n",
       "<table border=\"1\" class=\"dataframe\">\n",
       "  <thead>\n",
       "    <tr style=\"text-align: right;\">\n",
       "      <th></th>\n",
       "      <th>points</th>\n",
       "    </tr>\n",
       "    <tr>\n",
       "      <th>variety</th>\n",
       "      <th></th>\n",
       "    </tr>\n",
       "  </thead>\n",
       "  <tbody>\n",
       "    <tr>\n",
       "      <th>Bordeaux-style Red Blend</th>\n",
       "      <td>5</td>\n",
       "    </tr>\n",
       "    <tr>\n",
       "      <th>Champagne Blend</th>\n",
       "      <td>2</td>\n",
       "    </tr>\n",
       "    <tr>\n",
       "      <th>Syrah</th>\n",
       "      <td>2</td>\n",
       "    </tr>\n",
       "    <tr>\n",
       "      <th>Bordeaux-style White Blend</th>\n",
       "      <td>1</td>\n",
       "    </tr>\n",
       "    <tr>\n",
       "      <th>Cabernet Sauvignon</th>\n",
       "      <td>1</td>\n",
       "    </tr>\n",
       "    <tr>\n",
       "      <th>Chardonnay</th>\n",
       "      <td>1</td>\n",
       "    </tr>\n",
       "    <tr>\n",
       "      <th>Merlot</th>\n",
       "      <td>1</td>\n",
       "    </tr>\n",
       "    <tr>\n",
       "      <th>Muscat</th>\n",
       "      <td>1</td>\n",
       "    </tr>\n",
       "    <tr>\n",
       "      <th>Port</th>\n",
       "      <td>1</td>\n",
       "    </tr>\n",
       "    <tr>\n",
       "      <th>Portuguese Red</th>\n",
       "      <td>1</td>\n",
       "    </tr>\n",
       "    <tr>\n",
       "      <th>Prugnolo Gentile</th>\n",
       "      <td>1</td>\n",
       "    </tr>\n",
       "    <tr>\n",
       "      <th>Sangiovese</th>\n",
       "      <td>1</td>\n",
       "    </tr>\n",
       "    <tr>\n",
       "      <th>Sangiovese Grosso</th>\n",
       "      <td>1</td>\n",
       "    </tr>\n",
       "  </tbody>\n",
       "</table>\n",
       "</div>"
      ],
      "text/plain": [
       "                            points\n",
       "variety                           \n",
       "Bordeaux-style Red Blend         5\n",
       "Champagne Blend                  2\n",
       "Syrah                            2\n",
       "Bordeaux-style White Blend       1\n",
       "Cabernet Sauvignon               1\n",
       "Chardonnay                       1\n",
       "Merlot                           1\n",
       "Muscat                           1\n",
       "Port                             1\n",
       "Portuguese Red                   1\n",
       "Prugnolo Gentile                 1\n",
       "Sangiovese                       1\n",
       "Sangiovese Grosso                1"
      ]
     },
     "execution_count": 40,
     "metadata": {},
     "output_type": "execute_result"
    }
   ],
   "source": [
    "best_score.pivot_table(values = 'points',\n",
    "                      index = ['variety'],\n",
    "                      aggfunc = 'count').sort_values('points',ascending=False)"
   ]
  },
  {
   "cell_type": "markdown",
   "id": "dddd6c67",
   "metadata": {},
   "source": [
    "Boredeaux-style Red Blend is the most appreciated variety, in fact 5 wines of this variety received the highest score. "
   ]
  },
  {
   "cell_type": "markdown",
   "id": "689b57b5",
   "metadata": {},
   "source": [
    "What about the most expensive varieties?"
   ]
  },
  {
   "cell_type": "code",
   "execution_count": 41,
   "id": "bc556ff5",
   "metadata": {},
   "outputs": [
    {
     "data": {
      "text/plain": [
       "Bordeaux-style Red Blend      9\n",
       "Pinot Noir                    4\n",
       "Port                          2\n",
       "Bordeaux-style White Blend    2\n",
       "Grüner Veltliner              1\n",
       "Chardonnay                    1\n",
       "Sangiovese Grosso             1\n",
       "Name: variety, dtype: int64"
      ]
     },
     "execution_count": 41,
     "metadata": {},
     "output_type": "execute_result"
    }
   ],
   "source": [
    "exp_wine['variety'].value_counts()"
   ]
  },
  {
   "cell_type": "markdown",
   "id": "b87456f2",
   "metadata": {},
   "source": [
    "We can observe that most of the most expensive wines are a Bordeaux-style Red Blend."
   ]
  },
  {
   "cell_type": "markdown",
   "id": "2628cec1",
   "metadata": {},
   "source": [
    "In short, Bordeaux-style Red Blend is considered the best variety, and it's one of the most produced ones, but it's also the most expensive in the world."
   ]
  },
  {
   "cell_type": "markdown",
   "id": "eb6f0f05",
   "metadata": {},
   "source": [
    "**5. Vineyard and winery**"
   ]
  },
  {
   "cell_type": "markdown",
   "id": "73d9ba7f",
   "metadata": {},
   "source": [
    "Finally, I'm curious about the best vineyard and the best winery of the world."
   ]
  },
  {
   "cell_type": "code",
   "execution_count": 42,
   "id": "f6c48745",
   "metadata": {},
   "outputs": [
    {
     "data": {
      "text/html": [
       "<div>\n",
       "<style scoped>\n",
       "    .dataframe tbody tr th:only-of-type {\n",
       "        vertical-align: middle;\n",
       "    }\n",
       "\n",
       "    .dataframe tbody tr th {\n",
       "        vertical-align: top;\n",
       "    }\n",
       "\n",
       "    .dataframe thead th {\n",
       "        text-align: right;\n",
       "    }\n",
       "</style>\n",
       "<table border=\"1\" class=\"dataframe\">\n",
       "  <thead>\n",
       "    <tr style=\"text-align: right;\">\n",
       "      <th></th>\n",
       "      <th>points</th>\n",
       "    </tr>\n",
       "    <tr>\n",
       "      <th>designation</th>\n",
       "      <th></th>\n",
       "    </tr>\n",
       "  </thead>\n",
       "  <tbody>\n",
       "    <tr>\n",
       "      <th>Barca-Velha</th>\n",
       "      <td>1</td>\n",
       "    </tr>\n",
       "    <tr>\n",
       "      <th>Bionic Frog</th>\n",
       "      <td>1</td>\n",
       "    </tr>\n",
       "    <tr>\n",
       "      <th>Brut</th>\n",
       "      <td>1</td>\n",
       "    </tr>\n",
       "    <tr>\n",
       "      <th>Cerretalto</th>\n",
       "      <td>1</td>\n",
       "    </tr>\n",
       "    <tr>\n",
       "      <th>Cristal Vintage Brut</th>\n",
       "      <td>1</td>\n",
       "    </tr>\n",
       "    <tr>\n",
       "      <th>La Muse</th>\n",
       "      <td>1</td>\n",
       "    </tr>\n",
       "    <tr>\n",
       "      <th>Le Mesnil Blanc de Blancs Brut</th>\n",
       "      <td>1</td>\n",
       "    </tr>\n",
       "    <tr>\n",
       "      <th>Masseto</th>\n",
       "      <td>1</td>\n",
       "    </tr>\n",
       "    <tr>\n",
       "      <th>Nacional Vintage</th>\n",
       "      <td>1</td>\n",
       "    </tr>\n",
       "    <tr>\n",
       "      <th>Occhio di Pernice</th>\n",
       "      <td>1</td>\n",
       "    </tr>\n",
       "    <tr>\n",
       "      <th>Rare</th>\n",
       "      <td>1</td>\n",
       "    </tr>\n",
       "    <tr>\n",
       "      <th>Riserva</th>\n",
       "      <td>1</td>\n",
       "    </tr>\n",
       "    <tr>\n",
       "      <th>Royal City</th>\n",
       "      <td>1</td>\n",
       "    </tr>\n",
       "  </tbody>\n",
       "</table>\n",
       "</div>"
      ],
      "text/plain": [
       "                                points\n",
       "designation                           \n",
       "Barca-Velha                          1\n",
       "Bionic Frog                          1\n",
       "Brut                                 1\n",
       "Cerretalto                           1\n",
       "Cristal Vintage Brut                 1\n",
       "La Muse                              1\n",
       "Le Mesnil Blanc de Blancs Brut       1\n",
       "Masseto                              1\n",
       "Nacional Vintage                     1\n",
       "Occhio di Pernice                    1\n",
       "Rare                                 1\n",
       "Riserva                              1\n",
       "Royal City                           1"
      ]
     },
     "execution_count": 42,
     "metadata": {},
     "output_type": "execute_result"
    }
   ],
   "source": [
    "best_score.pivot_table(values = 'points',\n",
    "                      index = 'designation',\n",
    "                      aggfunc = 'count').sort_values(by = 'points',ascending = False)"
   ]
  },
  {
   "cell_type": "markdown",
   "id": "8692c3fe",
   "metadata": {},
   "source": [
    "Due to the fact that there are more than 35000 null values in the \"designation\" columns, we only know 13 vineryards of the bottles with the highest score."
   ]
  },
  {
   "cell_type": "markdown",
   "id": "ccac2a9f",
   "metadata": {},
   "source": [
    "Now let's see the best wineries:"
   ]
  },
  {
   "cell_type": "code",
   "execution_count": 43,
   "id": "a0a7f029",
   "metadata": {},
   "outputs": [
    {
     "data": {
      "text/html": [
       "<div>\n",
       "<style scoped>\n",
       "    .dataframe tbody tr th:only-of-type {\n",
       "        vertical-align: middle;\n",
       "    }\n",
       "\n",
       "    .dataframe tbody tr th {\n",
       "        vertical-align: top;\n",
       "    }\n",
       "\n",
       "    .dataframe thead th {\n",
       "        text-align: right;\n",
       "    }\n",
       "</style>\n",
       "<table border=\"1\" class=\"dataframe\">\n",
       "  <thead>\n",
       "    <tr style=\"text-align: right;\">\n",
       "      <th></th>\n",
       "      <th>points</th>\n",
       "    </tr>\n",
       "    <tr>\n",
       "      <th>winery</th>\n",
       "      <th></th>\n",
       "    </tr>\n",
       "  </thead>\n",
       "  <tbody>\n",
       "    <tr>\n",
       "      <th>Avignonesi</th>\n",
       "      <td>1</td>\n",
       "    </tr>\n",
       "    <tr>\n",
       "      <th>Château Lafite Rothschild</th>\n",
       "      <td>1</td>\n",
       "    </tr>\n",
       "    <tr>\n",
       "      <th>Tenuta dell'Ornellaia</th>\n",
       "      <td>1</td>\n",
       "    </tr>\n",
       "    <tr>\n",
       "      <th>Salon</th>\n",
       "      <td>1</td>\n",
       "    </tr>\n",
       "    <tr>\n",
       "      <th>Quinta do Noval</th>\n",
       "      <td>1</td>\n",
       "    </tr>\n",
       "    <tr>\n",
       "      <th>Louis Roederer</th>\n",
       "      <td>1</td>\n",
       "    </tr>\n",
       "    <tr>\n",
       "      <th>Krug</th>\n",
       "      <td>1</td>\n",
       "    </tr>\n",
       "    <tr>\n",
       "      <th>Château Léoville Las Cases</th>\n",
       "      <td>1</td>\n",
       "    </tr>\n",
       "    <tr>\n",
       "      <th>Château Léoville Barton</th>\n",
       "      <td>1</td>\n",
       "    </tr>\n",
       "    <tr>\n",
       "      <th>Château Haut-Brion</th>\n",
       "      <td>1</td>\n",
       "    </tr>\n",
       "    <tr>\n",
       "      <th>Biondi Santi</th>\n",
       "      <td>1</td>\n",
       "    </tr>\n",
       "    <tr>\n",
       "      <th>Château Cheval Blanc</th>\n",
       "      <td>1</td>\n",
       "    </tr>\n",
       "    <tr>\n",
       "      <th>Charles Smith</th>\n",
       "      <td>1</td>\n",
       "    </tr>\n",
       "    <tr>\n",
       "      <th>Chambers Rosewood Vineyards</th>\n",
       "      <td>1</td>\n",
       "    </tr>\n",
       "    <tr>\n",
       "      <th>Cayuse</th>\n",
       "      <td>1</td>\n",
       "    </tr>\n",
       "    <tr>\n",
       "      <th>Casanova di Neri</th>\n",
       "      <td>1</td>\n",
       "    </tr>\n",
       "    <tr>\n",
       "      <th>Casa Ferreirinha</th>\n",
       "      <td>1</td>\n",
       "    </tr>\n",
       "    <tr>\n",
       "      <th>Cardinale</th>\n",
       "      <td>1</td>\n",
       "    </tr>\n",
       "    <tr>\n",
       "      <th>Verité</th>\n",
       "      <td>1</td>\n",
       "    </tr>\n",
       "  </tbody>\n",
       "</table>\n",
       "</div>"
      ],
      "text/plain": [
       "                             points\n",
       "winery                             \n",
       "Avignonesi                        1\n",
       "Château Lafite Rothschild         1\n",
       "Tenuta dell'Ornellaia             1\n",
       "Salon                             1\n",
       "Quinta do Noval                   1\n",
       "Louis Roederer                    1\n",
       "Krug                              1\n",
       "Château Léoville Las Cases        1\n",
       "Château Léoville Barton           1\n",
       "Château Haut-Brion                1\n",
       "Biondi Santi                      1\n",
       "Château Cheval Blanc              1\n",
       "Charles Smith                     1\n",
       "Chambers Rosewood Vineyards       1\n",
       "Cayuse                            1\n",
       "Casanova di Neri                  1\n",
       "Casa Ferreirinha                  1\n",
       "Cardinale                         1\n",
       "Verité                            1"
      ]
     },
     "execution_count": 43,
     "metadata": {},
     "output_type": "execute_result"
    }
   ],
   "source": [
    "best_score.pivot_table(values = 'points',\n",
    "                      index = 'winery',\n",
    "                      aggfunc = 'count').sort_values(by = 'points',ascending = False)"
   ]
  },
  {
   "cell_type": "markdown",
   "id": "07e3d1b4",
   "metadata": {},
   "source": [
    "**6. Strategy**"
   ]
  },
  {
   "cell_type": "markdown",
   "id": "a46bb1b7",
   "metadata": {},
   "source": [
    "In light of the above, the strategy to create the wine selection that I would suggest for the marketplace should consider two aspects that I will sum up in two keywords: <br> \"Variety\" and \"Accessibility\". <br>\n",
    "Indeed, the selection should include at least one wine of each country of the world, in order to allow the buyers to try wines of different origin and to support every country. Moreover the selection should also include different varieties of wine, different vineyards and different wineries. <br>\n",
    "Secondly, the marketplace should be accessible to everyone and then sell both cheap and expensive wines, in order to allow everyone to buy a bottle of wine."
   ]
  },
  {
   "cell_type": "markdown",
   "id": "dcf4976e",
   "metadata": {},
   "source": [
    "Let's see then which are the best wines of each country:"
   ]
  },
  {
   "cell_type": "code",
   "execution_count": 44,
   "id": "fd18855b",
   "metadata": {},
   "outputs": [],
   "source": [
    "max_points = wine.groupby('country').max('points')\n",
    "\n",
    "max_points.rename(columns = {'points':'max_points'}, inplace = True)\n",
    "max_points.drop(columns = ['price','index','price_log'], inplace = True)\n",
    "\n",
    "wine_max = wine.merge(max_points, how = 'left', on = 'country')\n",
    "\n",
    "best = wine_max[wine_max['points'] == wine_max['max_points']].sort_values('country')\n",
    "\n",
    "best_wine = best.groupby(['country','title']).max()"
   ]
  },
  {
   "cell_type": "code",
   "execution_count": 45,
   "id": "0ba67176",
   "metadata": {},
   "outputs": [
    {
     "data": {
      "text/html": [
       "<div>\n",
       "<style scoped>\n",
       "    .dataframe tbody tr th:only-of-type {\n",
       "        vertical-align: middle;\n",
       "    }\n",
       "\n",
       "    .dataframe tbody tr th {\n",
       "        vertical-align: top;\n",
       "    }\n",
       "\n",
       "    .dataframe thead th {\n",
       "        text-align: right;\n",
       "    }\n",
       "</style>\n",
       "<table border=\"1\" class=\"dataframe\">\n",
       "  <thead>\n",
       "    <tr style=\"text-align: right;\">\n",
       "      <th></th>\n",
       "      <th></th>\n",
       "      <th>index</th>\n",
       "      <th>designation</th>\n",
       "      <th>points</th>\n",
       "      <th>price</th>\n",
       "      <th>province</th>\n",
       "      <th>variety</th>\n",
       "      <th>winery</th>\n",
       "      <th>price_log</th>\n",
       "      <th>max_points</th>\n",
       "    </tr>\n",
       "    <tr>\n",
       "      <th>country</th>\n",
       "      <th>title</th>\n",
       "      <th></th>\n",
       "      <th></th>\n",
       "      <th></th>\n",
       "      <th></th>\n",
       "      <th></th>\n",
       "      <th></th>\n",
       "      <th></th>\n",
       "      <th></th>\n",
       "      <th></th>\n",
       "    </tr>\n",
       "  </thead>\n",
       "  <tbody>\n",
       "    <tr>\n",
       "      <th>Argentina</th>\n",
       "      <th>Bodega Catena Zapata 2006 Nicasia Vineyard Malbec (Mendoza)</th>\n",
       "      <td>82754</td>\n",
       "      <td>Nicasia Vineyard</td>\n",
       "      <td>97</td>\n",
       "      <td>120.0</td>\n",
       "      <td>Mendoza Province</td>\n",
       "      <td>Malbec</td>\n",
       "      <td>Bodega Catena Zapata</td>\n",
       "      <td>4.787492</td>\n",
       "      <td>97.0</td>\n",
       "    </tr>\n",
       "    <tr>\n",
       "      <th>Armenia</th>\n",
       "      <th>Van Ardi 2015 Estate Bottled Rosé (Armenia)</th>\n",
       "      <td>66146</td>\n",
       "      <td>Estate Bottled</td>\n",
       "      <td>88</td>\n",
       "      <td>15.0</td>\n",
       "      <td>Armenia</td>\n",
       "      <td>Rosé</td>\n",
       "      <td>Van Ardi</td>\n",
       "      <td>2.708050</td>\n",
       "      <td>88.0</td>\n",
       "    </tr>\n",
       "    <tr>\n",
       "      <th>Australia</th>\n",
       "      <th>Chambers Rosewood Vineyards NV Rare Muscat (Rutherglen)</th>\n",
       "      <td>345</td>\n",
       "      <td>Rare</td>\n",
       "      <td>100</td>\n",
       "      <td>350.0</td>\n",
       "      <td>Victoria</td>\n",
       "      <td>Muscat</td>\n",
       "      <td>Chambers Rosewood Vineyards</td>\n",
       "      <td>5.857933</td>\n",
       "      <td>100.0</td>\n",
       "    </tr>\n",
       "    <tr>\n",
       "      <th>Austria</th>\n",
       "      <th>Kracher 2008 Zwischen den Seen Nummer 9 Trockenbeerenauslese Welschriesling (Burgenland)</th>\n",
       "      <td>109406</td>\n",
       "      <td>Zwischen den Seen Nummer 9 Trockenbeerenauslese</td>\n",
       "      <td>98</td>\n",
       "      <td>NaN</td>\n",
       "      <td>Burgenland</td>\n",
       "      <td>Welschriesling</td>\n",
       "      <td>Kracher</td>\n",
       "      <td>NaN</td>\n",
       "      <td>98.0</td>\n",
       "    </tr>\n",
       "    <tr>\n",
       "      <th>Bosnia and Herzegovina</th>\n",
       "      <th>Winery Čitluk 2011 Blatina (Mostar)</th>\n",
       "      <td>96759</td>\n",
       "      <td>NaN</td>\n",
       "      <td>88</td>\n",
       "      <td>12.0</td>\n",
       "      <td>Mostar</td>\n",
       "      <td>Blatina</td>\n",
       "      <td>Winery Čitluk</td>\n",
       "      <td>2.484907</td>\n",
       "      <td>88.0</td>\n",
       "    </tr>\n",
       "    <tr>\n",
       "      <th>...</th>\n",
       "      <th>...</th>\n",
       "      <td>...</td>\n",
       "      <td>...</td>\n",
       "      <td>...</td>\n",
       "      <td>...</td>\n",
       "      <td>...</td>\n",
       "      <td>...</td>\n",
       "      <td>...</td>\n",
       "      <td>...</td>\n",
       "      <td>...</td>\n",
       "    </tr>\n",
       "    <tr>\n",
       "      <th rowspan=\"3\" valign=\"top\">US</th>\n",
       "      <th>Cayuse 2008 Bionic Frog Syrah (Walla Walla Valley (WA))</th>\n",
       "      <td>123545</td>\n",
       "      <td>Bionic Frog</td>\n",
       "      <td>100</td>\n",
       "      <td>80.0</td>\n",
       "      <td>Washington</td>\n",
       "      <td>Syrah</td>\n",
       "      <td>Cayuse</td>\n",
       "      <td>4.382027</td>\n",
       "      <td>100.0</td>\n",
       "    </tr>\n",
       "    <tr>\n",
       "      <th>Charles Smith 2006 Royal City Syrah (Columbia Valley (WA))</th>\n",
       "      <td>113929</td>\n",
       "      <td>Royal City</td>\n",
       "      <td>100</td>\n",
       "      <td>80.0</td>\n",
       "      <td>Washington</td>\n",
       "      <td>Syrah</td>\n",
       "      <td>Charles Smith</td>\n",
       "      <td>4.382027</td>\n",
       "      <td>100.0</td>\n",
       "    </tr>\n",
       "    <tr>\n",
       "      <th>Verité 2007 La Muse Red (Sonoma County)</th>\n",
       "      <td>118058</td>\n",
       "      <td>La Muse</td>\n",
       "      <td>100</td>\n",
       "      <td>450.0</td>\n",
       "      <td>California</td>\n",
       "      <td>Bordeaux-style Red Blend</td>\n",
       "      <td>Verité</td>\n",
       "      <td>6.109248</td>\n",
       "      <td>100.0</td>\n",
       "    </tr>\n",
       "    <tr>\n",
       "      <th>Ukraine</th>\n",
       "      <th>Koblevo NV Reserve Riesling (Ukraine)</th>\n",
       "      <td>88511</td>\n",
       "      <td>Reserve</td>\n",
       "      <td>88</td>\n",
       "      <td>9.0</td>\n",
       "      <td>Ukraine</td>\n",
       "      <td>Riesling</td>\n",
       "      <td>Koblevo</td>\n",
       "      <td>2.197225</td>\n",
       "      <td>88.0</td>\n",
       "    </tr>\n",
       "    <tr>\n",
       "      <th>Uruguay</th>\n",
       "      <th>Bouza 2015 B6 Parcela Única Tannat (Canelones)</th>\n",
       "      <td>14119</td>\n",
       "      <td>B6 Parcela Única</td>\n",
       "      <td>92</td>\n",
       "      <td>43.0</td>\n",
       "      <td>Canelones</td>\n",
       "      <td>Tannat</td>\n",
       "      <td>Bouza</td>\n",
       "      <td>3.761200</td>\n",
       "      <td>92.0</td>\n",
       "    </tr>\n",
       "  </tbody>\n",
       "</table>\n",
       "<p>89 rows × 9 columns</p>\n",
       "</div>"
      ],
      "text/plain": [
       "                                                                            index  \\\n",
       "country                title                                                        \n",
       "Argentina              Bodega Catena Zapata 2006 Nicasia Vineyard Malb...   82754   \n",
       "Armenia                Van Ardi 2015 Estate Bottled Rosé (Armenia)          66146   \n",
       "Australia              Chambers Rosewood Vineyards NV Rare Muscat (Rut...     345   \n",
       "Austria                Kracher 2008 Zwischen den Seen Nummer 9 Trocken...  109406   \n",
       "Bosnia and Herzegovina Winery Čitluk 2011 Blatina (Mostar)                  96759   \n",
       "...                                                                           ...   \n",
       "US                     Cayuse 2008 Bionic Frog Syrah (Walla Walla Vall...  123545   \n",
       "                       Charles Smith 2006 Royal City Syrah (Columbia V...  113929   \n",
       "                       Verité 2007 La Muse Red (Sonoma County)             118058   \n",
       "Ukraine                Koblevo NV Reserve Riesling (Ukraine)                88511   \n",
       "Uruguay                Bouza 2015 B6 Parcela Única Tannat (Canelones)       14119   \n",
       "\n",
       "                                                                                                               designation  \\\n",
       "country                title                                                                                                 \n",
       "Argentina              Bodega Catena Zapata 2006 Nicasia Vineyard Malb...                                 Nicasia Vineyard   \n",
       "Armenia                Van Ardi 2015 Estate Bottled Rosé (Armenia)                                          Estate Bottled   \n",
       "Australia              Chambers Rosewood Vineyards NV Rare Muscat (Rut...                                             Rare   \n",
       "Austria                Kracher 2008 Zwischen den Seen Nummer 9 Trocken...  Zwischen den Seen Nummer 9 Trockenbeerenauslese   \n",
       "Bosnia and Herzegovina Winery Čitluk 2011 Blatina (Mostar)                                                             NaN   \n",
       "...                                                                                                                    ...   \n",
       "US                     Cayuse 2008 Bionic Frog Syrah (Walla Walla Vall...                                      Bionic Frog   \n",
       "                       Charles Smith 2006 Royal City Syrah (Columbia V...                                       Royal City   \n",
       "                       Verité 2007 La Muse Red (Sonoma County)                                                     La Muse   \n",
       "Ukraine                Koblevo NV Reserve Riesling (Ukraine)                                                       Reserve   \n",
       "Uruguay                Bouza 2015 B6 Parcela Única Tannat (Canelones)                                     B6 Parcela Única   \n",
       "\n",
       "                                                                           points  \\\n",
       "country                title                                                        \n",
       "Argentina              Bodega Catena Zapata 2006 Nicasia Vineyard Malb...      97   \n",
       "Armenia                Van Ardi 2015 Estate Bottled Rosé (Armenia)             88   \n",
       "Australia              Chambers Rosewood Vineyards NV Rare Muscat (Rut...     100   \n",
       "Austria                Kracher 2008 Zwischen den Seen Nummer 9 Trocken...      98   \n",
       "Bosnia and Herzegovina Winery Čitluk 2011 Blatina (Mostar)                     88   \n",
       "...                                                                           ...   \n",
       "US                     Cayuse 2008 Bionic Frog Syrah (Walla Walla Vall...     100   \n",
       "                       Charles Smith 2006 Royal City Syrah (Columbia V...     100   \n",
       "                       Verité 2007 La Muse Red (Sonoma County)                100   \n",
       "Ukraine                Koblevo NV Reserve Riesling (Ukraine)                   88   \n",
       "Uruguay                Bouza 2015 B6 Parcela Única Tannat (Canelones)          92   \n",
       "\n",
       "                                                                           price  \\\n",
       "country                title                                                       \n",
       "Argentina              Bodega Catena Zapata 2006 Nicasia Vineyard Malb...  120.0   \n",
       "Armenia                Van Ardi 2015 Estate Bottled Rosé (Armenia)          15.0   \n",
       "Australia              Chambers Rosewood Vineyards NV Rare Muscat (Rut...  350.0   \n",
       "Austria                Kracher 2008 Zwischen den Seen Nummer 9 Trocken...    NaN   \n",
       "Bosnia and Herzegovina Winery Čitluk 2011 Blatina (Mostar)                  12.0   \n",
       "...                                                                          ...   \n",
       "US                     Cayuse 2008 Bionic Frog Syrah (Walla Walla Vall...   80.0   \n",
       "                       Charles Smith 2006 Royal City Syrah (Columbia V...   80.0   \n",
       "                       Verité 2007 La Muse Red (Sonoma County)             450.0   \n",
       "Ukraine                Koblevo NV Reserve Riesling (Ukraine)                 9.0   \n",
       "Uruguay                Bouza 2015 B6 Parcela Única Tannat (Canelones)       43.0   \n",
       "\n",
       "                                                                                   province  \\\n",
       "country                title                                                                  \n",
       "Argentina              Bodega Catena Zapata 2006 Nicasia Vineyard Malb...  Mendoza Province   \n",
       "Armenia                Van Ardi 2015 Estate Bottled Rosé (Armenia)                  Armenia   \n",
       "Australia              Chambers Rosewood Vineyards NV Rare Muscat (Rut...          Victoria   \n",
       "Austria                Kracher 2008 Zwischen den Seen Nummer 9 Trocken...        Burgenland   \n",
       "Bosnia and Herzegovina Winery Čitluk 2011 Blatina (Mostar)                           Mostar   \n",
       "...                                                                                     ...   \n",
       "US                     Cayuse 2008 Bionic Frog Syrah (Walla Walla Vall...        Washington   \n",
       "                       Charles Smith 2006 Royal City Syrah (Columbia V...        Washington   \n",
       "                       Verité 2007 La Muse Red (Sonoma County)                   California   \n",
       "Ukraine                Koblevo NV Reserve Riesling (Ukraine)                        Ukraine   \n",
       "Uruguay                Bouza 2015 B6 Parcela Única Tannat (Canelones)             Canelones   \n",
       "\n",
       "                                                                                            variety  \\\n",
       "country                title                                                                          \n",
       "Argentina              Bodega Catena Zapata 2006 Nicasia Vineyard Malb...                    Malbec   \n",
       "Armenia                Van Ardi 2015 Estate Bottled Rosé (Armenia)                             Rosé   \n",
       "Australia              Chambers Rosewood Vineyards NV Rare Muscat (Rut...                    Muscat   \n",
       "Austria                Kracher 2008 Zwischen den Seen Nummer 9 Trocken...            Welschriesling   \n",
       "Bosnia and Herzegovina Winery Čitluk 2011 Blatina (Mostar)                                  Blatina   \n",
       "...                                                                                             ...   \n",
       "US                     Cayuse 2008 Bionic Frog Syrah (Walla Walla Vall...                     Syrah   \n",
       "                       Charles Smith 2006 Royal City Syrah (Columbia V...                     Syrah   \n",
       "                       Verité 2007 La Muse Red (Sonoma County)             Bordeaux-style Red Blend   \n",
       "Ukraine                Koblevo NV Reserve Riesling (Ukraine)                               Riesling   \n",
       "Uruguay                Bouza 2015 B6 Parcela Única Tannat (Canelones)                        Tannat   \n",
       "\n",
       "                                                                                                winery  \\\n",
       "country                title                                                                             \n",
       "Argentina              Bodega Catena Zapata 2006 Nicasia Vineyard Malb...         Bodega Catena Zapata   \n",
       "Armenia                Van Ardi 2015 Estate Bottled Rosé (Armenia)                            Van Ardi   \n",
       "Australia              Chambers Rosewood Vineyards NV Rare Muscat (Rut...  Chambers Rosewood Vineyards   \n",
       "Austria                Kracher 2008 Zwischen den Seen Nummer 9 Trocken...                      Kracher   \n",
       "Bosnia and Herzegovina Winery Čitluk 2011 Blatina (Mostar)                               Winery Čitluk   \n",
       "...                                                                                                ...   \n",
       "US                     Cayuse 2008 Bionic Frog Syrah (Walla Walla Vall...                       Cayuse   \n",
       "                       Charles Smith 2006 Royal City Syrah (Columbia V...                Charles Smith   \n",
       "                       Verité 2007 La Muse Red (Sonoma County)                                  Verité   \n",
       "Ukraine                Koblevo NV Reserve Riesling (Ukraine)                                   Koblevo   \n",
       "Uruguay                Bouza 2015 B6 Parcela Única Tannat (Canelones)                            Bouza   \n",
       "\n",
       "                                                                           price_log  \\\n",
       "country                title                                                           \n",
       "Argentina              Bodega Catena Zapata 2006 Nicasia Vineyard Malb...   4.787492   \n",
       "Armenia                Van Ardi 2015 Estate Bottled Rosé (Armenia)          2.708050   \n",
       "Australia              Chambers Rosewood Vineyards NV Rare Muscat (Rut...   5.857933   \n",
       "Austria                Kracher 2008 Zwischen den Seen Nummer 9 Trocken...        NaN   \n",
       "Bosnia and Herzegovina Winery Čitluk 2011 Blatina (Mostar)                  2.484907   \n",
       "...                                                                              ...   \n",
       "US                     Cayuse 2008 Bionic Frog Syrah (Walla Walla Vall...   4.382027   \n",
       "                       Charles Smith 2006 Royal City Syrah (Columbia V...   4.382027   \n",
       "                       Verité 2007 La Muse Red (Sonoma County)              6.109248   \n",
       "Ukraine                Koblevo NV Reserve Riesling (Ukraine)                2.197225   \n",
       "Uruguay                Bouza 2015 B6 Parcela Única Tannat (Canelones)       3.761200   \n",
       "\n",
       "                                                                           max_points  \n",
       "country                title                                                           \n",
       "Argentina              Bodega Catena Zapata 2006 Nicasia Vineyard Malb...        97.0  \n",
       "Armenia                Van Ardi 2015 Estate Bottled Rosé (Armenia)               88.0  \n",
       "Australia              Chambers Rosewood Vineyards NV Rare Muscat (Rut...       100.0  \n",
       "Austria                Kracher 2008 Zwischen den Seen Nummer 9 Trocken...        98.0  \n",
       "Bosnia and Herzegovina Winery Čitluk 2011 Blatina (Mostar)                       88.0  \n",
       "...                                                                               ...  \n",
       "US                     Cayuse 2008 Bionic Frog Syrah (Walla Walla Vall...       100.0  \n",
       "                       Charles Smith 2006 Royal City Syrah (Columbia V...       100.0  \n",
       "                       Verité 2007 La Muse Red (Sonoma County)                  100.0  \n",
       "Ukraine                Koblevo NV Reserve Riesling (Ukraine)                     88.0  \n",
       "Uruguay                Bouza 2015 B6 Parcela Única Tannat (Canelones)            92.0  \n",
       "\n",
       "[89 rows x 9 columns]"
      ]
     },
     "execution_count": 45,
     "metadata": {},
     "output_type": "execute_result"
    }
   ],
   "source": [
    "best_wine"
   ]
  },
  {
   "cell_type": "markdown",
   "id": "e77bc52f",
   "metadata": {},
   "source": [
    "These 89 wines should be in the selection. <br>\n",
    "Certainly the marketplace should sell wines of high quality, I then want to be sure that these 89 wines received a good score. Moreover I want these wines to be accessible to anyone, I want then to explore the distribution of their prices."
   ]
  },
  {
   "cell_type": "code",
   "execution_count": 46,
   "id": "9de06a73",
   "metadata": {
    "scrolled": true
   },
   "outputs": [
    {
     "data": {
      "text/html": [
       "<div>\n",
       "<style scoped>\n",
       "    .dataframe tbody tr th:only-of-type {\n",
       "        vertical-align: middle;\n",
       "    }\n",
       "\n",
       "    .dataframe tbody tr th {\n",
       "        vertical-align: top;\n",
       "    }\n",
       "\n",
       "    .dataframe thead th {\n",
       "        text-align: right;\n",
       "    }\n",
       "</style>\n",
       "<table border=\"1\" class=\"dataframe\">\n",
       "  <thead>\n",
       "    <tr style=\"text-align: right;\">\n",
       "      <th></th>\n",
       "      <th>index</th>\n",
       "      <th>points</th>\n",
       "      <th>price</th>\n",
       "      <th>price_log</th>\n",
       "      <th>max_points</th>\n",
       "    </tr>\n",
       "  </thead>\n",
       "  <tbody>\n",
       "    <tr>\n",
       "      <th>count</th>\n",
       "      <td>89.000000</td>\n",
       "      <td>89.000000</td>\n",
       "      <td>87.000000</td>\n",
       "      <td>87.000000</td>\n",
       "      <td>89.000000</td>\n",
       "    </tr>\n",
       "    <tr>\n",
       "      <th>mean</th>\n",
       "      <td>64898.449438</td>\n",
       "      <td>93.382022</td>\n",
       "      <td>154.666667</td>\n",
       "      <td>4.138631</td>\n",
       "      <td>93.382022</td>\n",
       "    </tr>\n",
       "    <tr>\n",
       "      <th>std</th>\n",
       "      <td>38647.011015</td>\n",
       "      <td>4.357610</td>\n",
       "      <td>274.917648</td>\n",
       "      <td>1.226965</td>\n",
       "      <td>4.357610</td>\n",
       "    </tr>\n",
       "    <tr>\n",
       "      <th>min</th>\n",
       "      <td>345.000000</td>\n",
       "      <td>84.000000</td>\n",
       "      <td>9.000000</td>\n",
       "      <td>2.197225</td>\n",
       "      <td>84.000000</td>\n",
       "    </tr>\n",
       "    <tr>\n",
       "      <th>25%</th>\n",
       "      <td>38210.000000</td>\n",
       "      <td>90.000000</td>\n",
       "      <td>25.000000</td>\n",
       "      <td>3.218876</td>\n",
       "      <td>90.000000</td>\n",
       "    </tr>\n",
       "    <tr>\n",
       "      <th>50%</th>\n",
       "      <td>64118.000000</td>\n",
       "      <td>92.000000</td>\n",
       "      <td>45.000000</td>\n",
       "      <td>3.806662</td>\n",
       "      <td>92.000000</td>\n",
       "    </tr>\n",
       "    <tr>\n",
       "      <th>75%</th>\n",
       "      <td>95554.000000</td>\n",
       "      <td>97.000000</td>\n",
       "      <td>110.000000</td>\n",
       "      <td>4.696331</td>\n",
       "      <td>97.000000</td>\n",
       "    </tr>\n",
       "    <tr>\n",
       "      <th>max</th>\n",
       "      <td>129280.000000</td>\n",
       "      <td>100.000000</td>\n",
       "      <td>1500.000000</td>\n",
       "      <td>7.313220</td>\n",
       "      <td>100.000000</td>\n",
       "    </tr>\n",
       "  </tbody>\n",
       "</table>\n",
       "</div>"
      ],
      "text/plain": [
       "               index      points        price  price_log  max_points\n",
       "count      89.000000   89.000000    87.000000  87.000000   89.000000\n",
       "mean    64898.449438   93.382022   154.666667   4.138631   93.382022\n",
       "std     38647.011015    4.357610   274.917648   1.226965    4.357610\n",
       "min       345.000000   84.000000     9.000000   2.197225   84.000000\n",
       "25%     38210.000000   90.000000    25.000000   3.218876   90.000000\n",
       "50%     64118.000000   92.000000    45.000000   3.806662   92.000000\n",
       "75%     95554.000000   97.000000   110.000000   4.696331   97.000000\n",
       "max    129280.000000  100.000000  1500.000000   7.313220  100.000000"
      ]
     },
     "execution_count": 46,
     "metadata": {},
     "output_type": "execute_result"
    }
   ],
   "source": [
    "best_wine.describe()"
   ]
  },
  {
   "cell_type": "code",
   "execution_count": 47,
   "id": "9fb08b18",
   "metadata": {},
   "outputs": [
    {
     "data": {
      "image/png": "[encoded data removed]",
      "text/plain": [
       "<Figure size 576x360 with 1 Axes>"
      ]
     },
     "metadata": {
      "needs_background": "light"
     },
     "output_type": "display_data"
    }
   ],
   "source": [
    "plt.figure(figsize = (8,5))\n",
    "sns.histplot(x = 'points', data = best_wine)\n",
    "plt.title(\"Distribution of the score of the best wines of each country\")\n",
    "plt.show()"
   ]
  },
  {
   "cell_type": "markdown",
   "id": "906fbbb1",
   "metadata": {},
   "source": [
    "Most of the wines of the selection received between 88 and 92, and more than 20 wines had the highest score. The minimum is 84. Then these wines are actually pretty good."
   ]
  },
  {
   "cell_type": "code",
   "execution_count": 48,
   "id": "040cebc6",
   "metadata": {},
   "outputs": [
    {
     "data": {
      "image/png": "[encoded data removed]",
      "text/plain": [
       "<Figure size 864x360 with 1 Axes>"
      ]
     },
     "metadata": {
      "needs_background": "light"
     },
     "output_type": "display_data"
    }
   ],
   "source": [
    "plt.figure(figsize = (12,5))\n",
    "sns.histplot(x = 'price', data = best_wine)\n",
    "plt.title(\"Distribution of the score of the best wines of each country\")\n",
    "plt.show()"
   ]
  },
  {
   "cell_type": "markdown",
   "id": "6363ed4b",
   "metadata": {},
   "source": [
    "The prices of these wines are pretty various. Most of the wines costs less than 100, but it's also possible to find more expensive wines. So this selection could satisfy everyone."
   ]
  },
  {
   "cell_type": "markdown",
   "id": "f3ea65f1",
   "metadata": {},
   "source": [
    "Let's see now the varieties, vineyards and wineries of the wines included in this selection:"
   ]
  },
  {
   "cell_type": "code",
   "execution_count": 49,
   "id": "b4bbde3d",
   "metadata": {},
   "outputs": [
    {
     "name": "stdout",
     "output_type": "stream",
     "text": [
      "['Malbec' 'Rosé' 'Muscat' 'Welschriesling' 'Blatina' 'Chardonnay'\n",
      " 'Sparkling Blend' 'Red Blend' 'Bordeaux-style Red Blend' 'Riesling'\n",
      " 'Syrah' 'Cabernet Blend' 'Plavac Mali' 'Teran' 'Xinisteri' 'Xynisteri'\n",
      " 'Ryzlink Rýnský' 'Grenache' 'Bordeaux-style White Blend'\n",
      " 'Champagne Blend' 'Rkatsiteli' 'Moschofilero' 'Assyrtiko' 'White Blend'\n",
      " 'Shiraz' 'Cabernet Sauvignon' 'Prugnolo Gentile' 'Sangiovese'\n",
      " 'Sangiovese Grosso' 'Merlot' 'Syrah-Cabernet Sauvignon'\n",
      " 'Rhône-style Red Blend' 'Auxerrois' 'Vranec' 'Portuguese Red' 'Port'\n",
      " 'Sauvignon Blanc' 'Tinto Fino' 'Pinot Noir-Gamay' 'Chasselas' 'Okuzgozu'\n",
      " 'Tannat']\n",
      "(42,)\n"
     ]
    }
   ],
   "source": [
    "var = best_wine.variety.unique()\n",
    "print(var)\n",
    "print(var.shape)"
   ]
  },
  {
   "cell_type": "markdown",
   "id": "efc22c57",
   "metadata": {},
   "source": [
    "There are 42 varieties in the selection, so it's pretty diversified."
   ]
  },
  {
   "cell_type": "code",
   "execution_count": 50,
   "id": "0e8647be",
   "metadata": {},
   "outputs": [
    {
     "name": "stdout",
     "output_type": "stream",
     "text": [
      "['Nicasia Vineyard' 'Estate Bottled' 'Rare'\n",
      " 'Zwischen den Seen Nummer 9 Trockenbeerenauslese' nan\n",
      " 'Blanc de Blancs Brut' 'Brut Nature' 'Grande Cuvée' 'CR'\n",
      " \"Butterfly's Rock\" 'Collection' 'Riesling Icewine' 'Portfolio'\n",
      " 'Cuvée Classique' 'Clos Apalta' 'Caballo Loco Number Sixteen'\n",
      " 'Noble Dragon' 'Ambra' \"Reuben's Private Reserve\" 'Terra Mare'\n",
      " 'St. Nicholas' 'Alasia Dessert Wine' 'Roucí' 'Caspar Blanc de Noirs'\n",
      " 'Three Graces' 'Blanc de Blancs' 'The Trouble with Dreams' 'Brut'\n",
      " 'Cristal Vintage Brut' 'Le Mesnil Blanc de Blancs Brut'\n",
      " 'Qvevri Traditional Kakhuri Dry Unfiltered Amber Wine'\n",
      " 'Kiedrich Gräfenberg Trockenbeerenauslese' 'Kavalieros Single Vineyard'\n",
      " '6 Puttonyos Aszú Gold Label' 'Dindori Reserve' 'Reserve David Vineyard'\n",
      " 'Occhio di Pernice' 'Riserva' 'Cerretalto' 'Masseto' 'Reserve du Couvent'\n",
      " 'Gaston Hochar' 'Altitudes' 'Grande Réserve' 'Grande Reserve' 'El'\n",
      " 'Terrasses de Baalbeck' 'Bech-Kleinmacher Naumberg Grand Premier Cru'\n",
      " 'Veritas' 'Amado IV' 'Freedom Blend' 'Médaillon'\n",
      " 'SQM Gimblett Gravels Cabernets/Merlot' 'Homage' 'Valle del Sol'\n",
      " 'Sinfonía Tannat-Malbec-Petit Verdot' 'Barca-Velha' 'Nacional Vintage'\n",
      " 'Conocul Ambrozy' 'Svb Rosa' 'Margus Margi' 'Sub Rosa' 'Veliko'\n",
      " 'Book 17 XVII' 'Vin de Constance' 'Columella' 'Clon de la Familia'\n",
      " 'Dôle des Monts' 'Les Murettes' 'Pendore'\n",
      " 'Vintage Single Vineyard Collectible Series #5' 'Bionic Frog'\n",
      " 'Royal City' 'La Muse' 'Reserve' 'B6 Parcela Única']\n",
      "(76,)\n"
     ]
    }
   ],
   "source": [
    "vin = best_wine.designation.unique()\n",
    "print(vin)\n",
    "print(vin.shape)"
   ]
  },
  {
   "cell_type": "code",
   "execution_count": 51,
   "id": "880f4ccd",
   "metadata": {
    "scrolled": true
   },
   "outputs": [
    {
     "name": "stdout",
     "output_type": "stream",
     "text": [
      "['Bodega Catena Zapata' 'Van Ardi' 'Chambers Rosewood Vineyards' 'Kracher'\n",
      " 'Winery Čitluk' 'Cave Geisse' 'Bessa' 'Castra Rubra' 'Chateau Burgozone'\n",
      " 'Cave Spring' 'Laughing Stock' 'Le Vieux Pin' 'Lapostolle' 'Valdivieso'\n",
      " 'Chateau Changyu-Castel' 'Bibich' 'Korta Katarina' 'Trapan' 'Etko' 'Loel'\n",
      " 'Tsiakkas' 'Sonberk' 'Stapleton & Springer' 'Sahara Vineyards'\n",
      " 'Chapel Down' 'Nyetimber' 'Sugrue Pierre Ltd.' 'Château Cheval Blanc'\n",
      " 'Château Haut-Brion' 'Château Lafite Rothschild'\n",
      " 'Château Léoville Barton' 'Château Léoville Las Cases' 'Krug'\n",
      " 'Louis Roederer' 'Salon' 'Alaverdi Monastery Cellar' 'Robert Weil'\n",
      " 'Dionysos' 'Domaine Sigalas' 'Royal Tokaji' 'Sula' 'Recanati'\n",
      " 'Avignonesi' 'Biondi Santi' 'Casanova di Neri' \"Tenuta dell'Ornellaia\"\n",
      " 'Château Ksara' 'Château Musar' 'Ixsir' 'Massaya' 'Domaines Vinsmoselle'\n",
      " 'Stobi' 'Viñas de Garza' 'Purcari' 'Ouled Thaleb' 'Squawking Magpie'\n",
      " 'Trinity Hill' 'Intipalka' 'Tacama' 'Casa Ferreirinha' 'Quinta do Noval'\n",
      " 'Cramele Recas' 'Budimir' 'Château Bela' 'Movia' 'De Toren'\n",
      " 'Klein Constantia' 'Sadie Family' 'Emilio Moro' \"Château d'Auvernier\"\n",
      " 'Robert Gilliard' 'Kavaklidere' 'Kayra' 'Cardinale' 'Cayuse'\n",
      " 'Charles Smith' 'Verité' 'Koblevo' 'Bouza']\n",
      "(79,)\n"
     ]
    }
   ],
   "source": [
    "win = best_wine.winery.unique()\n",
    "print(win)\n",
    "print(win.shape)"
   ]
  },
  {
   "cell_type": "markdown",
   "id": "5a7868c8",
   "metadata": {},
   "source": [
    "Vineyards and wineries are also pretty diversified."
   ]
  },
  {
   "cell_type": "markdown",
   "id": "3ef4faab",
   "metadata": {},
   "source": [
    "In conclusion, by choosing the best wines of each country the selection for the marketplace would be quite diversified in: product origin, price of a bottle, varieties, vineyards and wineries. <br> It should then satisfy everyone's demands and give the opportunity to the buyers to try differents types of wines, while remaining accessible to everyone. Moreover it would give the opportunity to the countries to promote their wines all over the world, especially to the ones that have a little but still good production and that usually can not compete with the largest  and most famous wine producers."
   ]
  }
 ],
 "metadata": {
  "kernelspec": {
   "display_name": "Python 3",
   "language": "python",
   "name": "python3"
  },
  "language_info": {
   "codemirror_mode": {
    "name": "ipython",
    "version": 3
   },
   "file_extension": ".py",
   "mimetype": "text/x-python",
   "name": "python",
   "nbconvert_exporter": "python",
   "pygments_lexer": "ipython3",
   "version": "3.8.8"
  }
 },
 "nbformat": 4,
 "nbformat_minor": 5
}
